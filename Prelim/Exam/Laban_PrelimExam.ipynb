{
 "cells": [
  {
   "cell_type": "markdown",
   "id": "66b41d8f",
   "metadata": {},
   "source": [
    "# IMPORT LIBRARIES"
   ]
  },
  {
   "cell_type": "code",
   "execution_count": 1,
   "id": "a83a5cc3",
   "metadata": {},
   "outputs": [],
   "source": [
    "#import libraries\n",
    "#libraries are imported as global\n",
    "import pandas as pd\n",
    "import numpy as np\n",
    "import matplotlib.pyplot as plt\n",
    "import seaborn as sns\n",
    "from numpy import loadtxt\n",
    "from sklearn.metrics import accuracy_score\n",
    "from sklearn.metrics import confusion_matrix\n",
    "from sklearn.model_selection import train_test_split\n",
    "from sklearn.linear_model import LogisticRegression\n",
    "from tensorflow.keras.models import Sequential\n",
    "from tensorflow.keras.layers import Dense"
   ]
  },
  {
   "cell_type": "markdown",
   "id": "cad7e5fa",
   "metadata": {},
   "source": [
    "# GATHER DATA"
   ]
  },
  {
   "cell_type": "code",
   "execution_count": 2,
   "id": "e81820e3",
   "metadata": {},
   "outputs": [],
   "source": [
    "#load the training dataset\n",
    "train=pd.read_csv('train.csv')\n",
    "\n",
    "#load the testing dataset\n",
    "test=pd.read_csv('test.csv')"
   ]
  },
  {
   "cell_type": "code",
   "execution_count": 3,
   "id": "16c6144f",
   "metadata": {},
   "outputs": [
    {
     "data": {
      "text/html": [
       "<div>\n",
       "<style scoped>\n",
       "    .dataframe tbody tr th:only-of-type {\n",
       "        vertical-align: middle;\n",
       "    }\n",
       "\n",
       "    .dataframe tbody tr th {\n",
       "        vertical-align: top;\n",
       "    }\n",
       "\n",
       "    .dataframe thead th {\n",
       "        text-align: right;\n",
       "    }\n",
       "</style>\n",
       "<table border=\"1\" class=\"dataframe\">\n",
       "  <thead>\n",
       "    <tr style=\"text-align: right;\">\n",
       "      <th></th>\n",
       "      <th>PassengerId</th>\n",
       "      <th>Survived</th>\n",
       "      <th>Pclass</th>\n",
       "      <th>Name</th>\n",
       "      <th>Sex</th>\n",
       "      <th>Age</th>\n",
       "      <th>SibSp</th>\n",
       "      <th>Parch</th>\n",
       "      <th>Ticket</th>\n",
       "      <th>Fare</th>\n",
       "      <th>Cabin</th>\n",
       "      <th>Embarked</th>\n",
       "    </tr>\n",
       "  </thead>\n",
       "  <tbody>\n",
       "    <tr>\n",
       "      <th>0</th>\n",
       "      <td>1</td>\n",
       "      <td>0</td>\n",
       "      <td>3</td>\n",
       "      <td>Braund, Mr. Owen Harris</td>\n",
       "      <td>male</td>\n",
       "      <td>22.0</td>\n",
       "      <td>1</td>\n",
       "      <td>0</td>\n",
       "      <td>A/5 21171</td>\n",
       "      <td>7.2500</td>\n",
       "      <td>NaN</td>\n",
       "      <td>S</td>\n",
       "    </tr>\n",
       "    <tr>\n",
       "      <th>1</th>\n",
       "      <td>2</td>\n",
       "      <td>1</td>\n",
       "      <td>1</td>\n",
       "      <td>Cumings, Mrs. John Bradley (Florence Briggs Th...</td>\n",
       "      <td>female</td>\n",
       "      <td>38.0</td>\n",
       "      <td>1</td>\n",
       "      <td>0</td>\n",
       "      <td>PC 17599</td>\n",
       "      <td>71.2833</td>\n",
       "      <td>C85</td>\n",
       "      <td>C</td>\n",
       "    </tr>\n",
       "    <tr>\n",
       "      <th>2</th>\n",
       "      <td>3</td>\n",
       "      <td>1</td>\n",
       "      <td>3</td>\n",
       "      <td>Heikkinen, Miss. Laina</td>\n",
       "      <td>female</td>\n",
       "      <td>26.0</td>\n",
       "      <td>0</td>\n",
       "      <td>0</td>\n",
       "      <td>STON/O2. 3101282</td>\n",
       "      <td>7.9250</td>\n",
       "      <td>NaN</td>\n",
       "      <td>S</td>\n",
       "    </tr>\n",
       "    <tr>\n",
       "      <th>3</th>\n",
       "      <td>4</td>\n",
       "      <td>1</td>\n",
       "      <td>1</td>\n",
       "      <td>Futrelle, Mrs. Jacques Heath (Lily May Peel)</td>\n",
       "      <td>female</td>\n",
       "      <td>35.0</td>\n",
       "      <td>1</td>\n",
       "      <td>0</td>\n",
       "      <td>113803</td>\n",
       "      <td>53.1000</td>\n",
       "      <td>C123</td>\n",
       "      <td>S</td>\n",
       "    </tr>\n",
       "    <tr>\n",
       "      <th>4</th>\n",
       "      <td>5</td>\n",
       "      <td>0</td>\n",
       "      <td>3</td>\n",
       "      <td>Allen, Mr. William Henry</td>\n",
       "      <td>male</td>\n",
       "      <td>35.0</td>\n",
       "      <td>0</td>\n",
       "      <td>0</td>\n",
       "      <td>373450</td>\n",
       "      <td>8.0500</td>\n",
       "      <td>NaN</td>\n",
       "      <td>S</td>\n",
       "    </tr>\n",
       "  </tbody>\n",
       "</table>\n",
       "</div>"
      ],
      "text/plain": [
       "   PassengerId  Survived  Pclass  \\\n",
       "0            1         0       3   \n",
       "1            2         1       1   \n",
       "2            3         1       3   \n",
       "3            4         1       1   \n",
       "4            5         0       3   \n",
       "\n",
       "                                                Name     Sex   Age  SibSp  \\\n",
       "0                            Braund, Mr. Owen Harris    male  22.0      1   \n",
       "1  Cumings, Mrs. John Bradley (Florence Briggs Th...  female  38.0      1   \n",
       "2                             Heikkinen, Miss. Laina  female  26.0      0   \n",
       "3       Futrelle, Mrs. Jacques Heath (Lily May Peel)  female  35.0      1   \n",
       "4                           Allen, Mr. William Henry    male  35.0      0   \n",
       "\n",
       "   Parch            Ticket     Fare Cabin Embarked  \n",
       "0      0         A/5 21171   7.2500   NaN        S  \n",
       "1      0          PC 17599  71.2833   C85        C  \n",
       "2      0  STON/O2. 3101282   7.9250   NaN        S  \n",
       "3      0            113803  53.1000  C123        S  \n",
       "4      0            373450   8.0500   NaN        S  "
      ]
     },
     "execution_count": 3,
     "metadata": {},
     "output_type": "execute_result"
    }
   ],
   "source": [
    "#Get an overview of the training dataset\n",
    "train.head()"
   ]
  },
  {
   "cell_type": "code",
   "execution_count": 4,
   "id": "0213cbeb",
   "metadata": {},
   "outputs": [
    {
     "data": {
      "text/plain": [
       "(891, 12)"
      ]
     },
     "execution_count": 4,
     "metadata": {},
     "output_type": "execute_result"
    }
   ],
   "source": [
    "#Get the dimensions of the training dataset\n",
    "train.shape "
   ]
  },
  {
   "cell_type": "code",
   "execution_count": 5,
   "id": "97a1c196",
   "metadata": {},
   "outputs": [
    {
     "data": {
      "text/plain": [
       "Index(['PassengerId', 'Survived', 'Pclass', 'Name', 'Sex', 'Age', 'SibSp',\n",
       "       'Parch', 'Ticket', 'Fare', 'Cabin', 'Embarked'],\n",
       "      dtype='object')"
      ]
     },
     "execution_count": 5,
     "metadata": {},
     "output_type": "execute_result"
    }
   ],
   "source": [
    "#Get an overview of the column names for the training dataset\n",
    "train.columns "
   ]
  },
  {
   "cell_type": "code",
   "execution_count": 6,
   "id": "82b0be49",
   "metadata": {},
   "outputs": [
    {
     "data": {
      "text/plain": [
       "PassengerId      0\n",
       "Survived         0\n",
       "Pclass           0\n",
       "Name             0\n",
       "Sex              0\n",
       "Age            177\n",
       "SibSp            0\n",
       "Parch            0\n",
       "Ticket           0\n",
       "Fare             0\n",
       "Cabin          687\n",
       "Embarked         2\n",
       "dtype: int64"
      ]
     },
     "execution_count": 6,
     "metadata": {},
     "output_type": "execute_result"
    }
   ],
   "source": [
    "#Get the number of null values in the training data\n",
    "#Here we have around 177 missing values for Age and 687 missing values for Cabin\n",
    "train.isnull().sum() "
   ]
  },
  {
   "cell_type": "code",
   "execution_count": 7,
   "id": "b5b379a4",
   "metadata": {},
   "outputs": [
    {
     "data": {
      "text/plain": [
       "male      577\n",
       "female    314\n",
       "Name: Sex, dtype: int64"
      ]
     },
     "execution_count": 7,
     "metadata": {},
     "output_type": "execute_result"
    }
   ],
   "source": [
    "#Total number of male and female in the training dataset\n",
    "train['Sex'].value_counts()"
   ]
  },
  {
   "cell_type": "code",
   "execution_count": 8,
   "id": "870050ff",
   "metadata": {},
   "outputs": [
    {
     "data": {
      "text/plain": [
       "3    491\n",
       "1    216\n",
       "2    184\n",
       "Name: Pclass, dtype: int64"
      ]
     },
     "execution_count": 8,
     "metadata": {},
     "output_type": "execute_result"
    }
   ],
   "source": [
    "#Total number of Pclass in the training dataset\n",
    "#with Pclass 3 being the highest and the most common.\n",
    "train['Pclass'].value_counts()"
   ]
  },
  {
   "cell_type": "code",
   "execution_count": 9,
   "id": "22e1f914",
   "metadata": {},
   "outputs": [
    {
     "data": {
      "text/plain": [
       "<AxesSubplot:xlabel='Pclass', ylabel='count'>"
      ]
     },
     "execution_count": 9,
     "metadata": {},
     "output_type": "execute_result"
    },
    {
     "data": {
      "image/png": "[encoded data removed]",
      "text/plain": [
       "<Figure size 432x288 with 1 Axes>"
      ]
     },
     "metadata": {
      "needs_background": "light"
     },
     "output_type": "display_data"
    }
   ],
   "source": [
    "#Visualization of Pclass\n",
    "sns.countplot(x='Pclass', data=train, palette=['#432371',\"#FAAE7B\",\"#9b59b6\"])"
   ]
  },
  {
   "cell_type": "code",
   "execution_count": 10,
   "id": "d38c082f",
   "metadata": {},
   "outputs": [
    {
     "data": {
      "text/plain": [
       "S    644\n",
       "C    168\n",
       "Q     77\n",
       "Name: Embarked, dtype: int64"
      ]
     },
     "execution_count": 10,
     "metadata": {},
     "output_type": "execute_result"
    }
   ],
   "source": [
    "train['Embarked'].value_counts()"
   ]
  },
  {
   "cell_type": "code",
   "execution_count": 11,
   "id": "976e5c17",
   "metadata": {},
   "outputs": [
    {
     "data": {
      "text/plain": [
       "<AxesSubplot:xlabel='Embarked', ylabel='count'>"
      ]
     },
     "execution_count": 11,
     "metadata": {},
     "output_type": "execute_result"
    },
    {
     "data": {
      "image/png": "[encoded data removed]",
      "text/plain": [
       "<Figure size 432x288 with 1 Axes>"
      ]
     },
     "metadata": {
      "needs_background": "light"
     },
     "output_type": "display_data"
    }
   ],
   "source": [
    "#Visualization of Embarked\n",
    "sns.countplot(x='Embarked', data=train, palette=['#432371',\"#FAAE7B\",\"#9b59b6\"])"
   ]
  },
  {
   "cell_type": "code",
   "execution_count": 12,
   "id": "80549582",
   "metadata": {},
   "outputs": [
    {
     "data": {
      "text/plain": [
       "0    608\n",
       "1    209\n",
       "2     28\n",
       "4     18\n",
       "3     16\n",
       "8      7\n",
       "5      5\n",
       "Name: SibSp, dtype: int64"
      ]
     },
     "execution_count": 12,
     "metadata": {},
     "output_type": "execute_result"
    }
   ],
   "source": [
    "train['SibSp'].value_counts()"
   ]
  },
  {
   "cell_type": "code",
   "execution_count": 13,
   "id": "a6fd3902",
   "metadata": {},
   "outputs": [
    {
     "data": {
      "text/plain": [
       "<AxesSubplot:xlabel='SibSp', ylabel='count'>"
      ]
     },
     "execution_count": 13,
     "metadata": {},
     "output_type": "execute_result"
    },
    {
     "data": {
      "image/png": "[encoded data removed]",
      "text/plain": [
       "<Figure size 432x288 with 1 Axes>"
      ]
     },
     "metadata": {
      "needs_background": "light"
     },
     "output_type": "display_data"
    }
   ],
   "source": [
    "#Visualization of SibSp\n",
    "sns.countplot(x='SibSp', data=train, palette=['#432371',\"#FAAE7B\", \"#9b59b6\", \"#3498db\"])"
   ]
  },
  {
   "cell_type": "code",
   "execution_count": 14,
   "id": "204da3fc",
   "metadata": {},
   "outputs": [
    {
     "data": {
      "text/plain": [
       "<AxesSubplot:xlabel='Sex'>"
      ]
     },
     "execution_count": 14,
     "metadata": {},
     "output_type": "execute_result"
    },
    {
     "data": {
      "image/png": "[encoded data removed]",
      "text/plain": [
       "<Figure size 720x360 with 1 Axes>"
      ]
     },
     "metadata": {
      "needs_background": "light"
     },
     "output_type": "display_data"
    }
   ],
   "source": [
    "#Visual comparison of female and male survivors\n",
    "train['Died'] = 1 - train['Survived']\n",
    "train.groupby('Sex').agg('sum')[['Survived', 'Died']].plot(kind='bar', figsize=(10, 5), stacked=True, color = ('blue','red'))#modifies the bargraph"
   ]
  },
  {
   "cell_type": "code",
   "execution_count": 15,
   "id": "af16851c",
   "metadata": {},
   "outputs": [
    {
     "data": {
      "text/plain": [
       "<matplotlib.legend.Legend at 0x28885affa90>"
      ]
     },
     "execution_count": 15,
     "metadata": {},
     "output_type": "execute_result"
    },
    {
     "data": {
      "image/png": "[encoded data removed]",
      "text/plain": [
       "<Figure size 1224x576 with 1 Axes>"
      ]
     },
     "metadata": {
      "needs_background": "light"
     },
     "output_type": "display_data"
    }
   ],
   "source": [
    "#Visual comparison of the passengers who survived or died. Here the lower values of Fare correlates \n",
    "#with the higher number of deaths.\n",
    "figure = plt.figure(figsize=(17, 8))\n",
    "plt.hist([train[train['Survived'] == 1]['Fare'], train[train['Survived'] == 0]['Fare']], \n",
    "stacked=True, bins = 50, label = ['Survived','Dead'], color = ('blue','red'))\n",
    "plt.xlabel('Fare')\n",
    "plt.ylabel('Number of passengers')\n",
    "plt.legend()"
   ]
  },
  {
   "cell_type": "code",
   "execution_count": 16,
   "id": "bd6d4148",
   "metadata": {},
   "outputs": [
    {
     "name": "stdout",
     "output_type": "stream",
     "text": [
      "{'Ms', 'Dr', 'Major', 'Rev', 'Lady', 'the Countess', 'Master', 'Mlle', 'Mrs', 'Col', 'Mme', 'Sir', 'Capt', 'Mr', 'Jonkheer', 'Miss', 'Don'}\n"
     ]
    }
   ],
   "source": [
    "#The titles for the names aboard the ship in the dataset.\n",
    "titles = set()\n",
    "for name in train['Name']:titles.add(name.split(',')[1].split('.')[0].strip())\n",
    "print(titles)"
   ]
  },
  {
   "cell_type": "code",
   "execution_count": 17,
   "id": "2418fbfd",
   "metadata": {},
   "outputs": [],
   "source": [
    "#Contain all the titles in a single variable\n",
    "Title_Dictionary = {\"Capt\": \"Officer\",\"Col\": \"Officer\",\"Major\": \"Officer\",\"Jonkheer\": \"Royalty\",\"Don\": \"Royalty\",\"Sir\" : \"Royalty\",\"Dr\": \"Officer\",\"Rev\": \"Officer\",\"the Countess\":\"Royalty\",\"Mme\": \"Mrs\",\"Mlle\": \"Miss\",\"Ms\": \"Mrs\",\"Mr\" : \"Mr\",\"Mrs\" : \"Mrs\",\"Miss\" : \"Miss\",\"Master\" : \"Master\",\"Lady\" : \"Royalty\"}"
   ]
  },
  {
   "cell_type": "code",
   "execution_count": 18,
   "id": "3d8a009e",
   "metadata": {},
   "outputs": [
    {
     "data": {
      "text/html": [
       "<div>\n",
       "<style scoped>\n",
       "    .dataframe tbody tr th:only-of-type {\n",
       "        vertical-align: middle;\n",
       "    }\n",
       "\n",
       "    .dataframe tbody tr th {\n",
       "        vertical-align: top;\n",
       "    }\n",
       "\n",
       "    .dataframe thead th {\n",
       "        text-align: right;\n",
       "    }\n",
       "</style>\n",
       "<table border=\"1\" class=\"dataframe\">\n",
       "  <thead>\n",
       "    <tr style=\"text-align: right;\">\n",
       "      <th></th>\n",
       "      <th>PassengerId</th>\n",
       "      <th>Survived</th>\n",
       "      <th>Pclass</th>\n",
       "      <th>Name</th>\n",
       "      <th>Sex</th>\n",
       "      <th>Age</th>\n",
       "      <th>SibSp</th>\n",
       "      <th>Parch</th>\n",
       "      <th>Ticket</th>\n",
       "      <th>Fare</th>\n",
       "      <th>Cabin</th>\n",
       "      <th>Embarked</th>\n",
       "      <th>Died</th>\n",
       "      <th>Title</th>\n",
       "    </tr>\n",
       "  </thead>\n",
       "  <tbody>\n",
       "    <tr>\n",
       "      <th>0</th>\n",
       "      <td>1</td>\n",
       "      <td>0</td>\n",
       "      <td>3</td>\n",
       "      <td>Braund, Mr. Owen Harris</td>\n",
       "      <td>male</td>\n",
       "      <td>22.0</td>\n",
       "      <td>1</td>\n",
       "      <td>0</td>\n",
       "      <td>A/5 21171</td>\n",
       "      <td>7.2500</td>\n",
       "      <td>NaN</td>\n",
       "      <td>S</td>\n",
       "      <td>1</td>\n",
       "      <td>Mr</td>\n",
       "    </tr>\n",
       "    <tr>\n",
       "      <th>1</th>\n",
       "      <td>2</td>\n",
       "      <td>1</td>\n",
       "      <td>1</td>\n",
       "      <td>Cumings, Mrs. John Bradley (Florence Briggs Th...</td>\n",
       "      <td>female</td>\n",
       "      <td>38.0</td>\n",
       "      <td>1</td>\n",
       "      <td>0</td>\n",
       "      <td>PC 17599</td>\n",
       "      <td>71.2833</td>\n",
       "      <td>C85</td>\n",
       "      <td>C</td>\n",
       "      <td>0</td>\n",
       "      <td>Mrs</td>\n",
       "    </tr>\n",
       "    <tr>\n",
       "      <th>2</th>\n",
       "      <td>3</td>\n",
       "      <td>1</td>\n",
       "      <td>3</td>\n",
       "      <td>Heikkinen, Miss. Laina</td>\n",
       "      <td>female</td>\n",
       "      <td>26.0</td>\n",
       "      <td>0</td>\n",
       "      <td>0</td>\n",
       "      <td>STON/O2. 3101282</td>\n",
       "      <td>7.9250</td>\n",
       "      <td>NaN</td>\n",
       "      <td>S</td>\n",
       "      <td>0</td>\n",
       "      <td>Miss</td>\n",
       "    </tr>\n",
       "    <tr>\n",
       "      <th>3</th>\n",
       "      <td>4</td>\n",
       "      <td>1</td>\n",
       "      <td>1</td>\n",
       "      <td>Futrelle, Mrs. Jacques Heath (Lily May Peel)</td>\n",
       "      <td>female</td>\n",
       "      <td>35.0</td>\n",
       "      <td>1</td>\n",
       "      <td>0</td>\n",
       "      <td>113803</td>\n",
       "      <td>53.1000</td>\n",
       "      <td>C123</td>\n",
       "      <td>S</td>\n",
       "      <td>0</td>\n",
       "      <td>Mrs</td>\n",
       "    </tr>\n",
       "    <tr>\n",
       "      <th>4</th>\n",
       "      <td>5</td>\n",
       "      <td>0</td>\n",
       "      <td>3</td>\n",
       "      <td>Allen, Mr. William Henry</td>\n",
       "      <td>male</td>\n",
       "      <td>35.0</td>\n",
       "      <td>0</td>\n",
       "      <td>0</td>\n",
       "      <td>373450</td>\n",
       "      <td>8.0500</td>\n",
       "      <td>NaN</td>\n",
       "      <td>S</td>\n",
       "      <td>1</td>\n",
       "      <td>Mr</td>\n",
       "    </tr>\n",
       "  </tbody>\n",
       "</table>\n",
       "</div>"
      ],
      "text/plain": [
       "   PassengerId  Survived  Pclass  \\\n",
       "0            1         0       3   \n",
       "1            2         1       1   \n",
       "2            3         1       3   \n",
       "3            4         1       1   \n",
       "4            5         0       3   \n",
       "\n",
       "                                                Name     Sex   Age  SibSp  \\\n",
       "0                            Braund, Mr. Owen Harris    male  22.0      1   \n",
       "1  Cumings, Mrs. John Bradley (Florence Briggs Th...  female  38.0      1   \n",
       "2                             Heikkinen, Miss. Laina  female  26.0      0   \n",
       "3       Futrelle, Mrs. Jacques Heath (Lily May Peel)  female  35.0      1   \n",
       "4                           Allen, Mr. William Henry    male  35.0      0   \n",
       "\n",
       "   Parch            Ticket     Fare Cabin Embarked  Died Title  \n",
       "0      0         A/5 21171   7.2500   NaN        S     1    Mr  \n",
       "1      0          PC 17599  71.2833   C85        C     0   Mrs  \n",
       "2      0  STON/O2. 3101282   7.9250   NaN        S     0  Miss  \n",
       "3      0            113803  53.1000  C123        S     0   Mrs  \n",
       "4      0            373450   8.0500   NaN        S     1    Mr  "
      ]
     },
     "execution_count": 18,
     "metadata": {},
     "output_type": "execute_result"
    }
   ],
   "source": [
    "#Here we create another column in the dataset as title containing the prefixes in the names of the passengers\n",
    "#periods and commas are also removed.\n",
    "train['Title'] = train['Name'].map(lambda name:name.split(',')[1].split('.')[0].strip())\n",
    "train['Title'] = train.Title.map(Title_Dictionary)\n",
    "train.head()"
   ]
  },
  {
   "cell_type": "markdown",
   "id": "33554ee2",
   "metadata": {},
   "source": [
    "# CLEAN THE DATASET FOR TRAINING"
   ]
  },
  {
   "cell_type": "code",
   "execution_count": 19,
   "id": "496ead82",
   "metadata": {},
   "outputs": [
    {
     "data": {
      "text/html": [
       "<div>\n",
       "<style scoped>\n",
       "    .dataframe tbody tr th:only-of-type {\n",
       "        vertical-align: middle;\n",
       "    }\n",
       "\n",
       "    .dataframe tbody tr th {\n",
       "        vertical-align: top;\n",
       "    }\n",
       "\n",
       "    .dataframe thead th {\n",
       "        text-align: right;\n",
       "    }\n",
       "</style>\n",
       "<table border=\"1\" class=\"dataframe\">\n",
       "  <thead>\n",
       "    <tr style=\"text-align: right;\">\n",
       "      <th></th>\n",
       "      <th>Survived</th>\n",
       "      <th>Pclass</th>\n",
       "      <th>Sex</th>\n",
       "      <th>Age</th>\n",
       "      <th>SibSp</th>\n",
       "      <th>Parch</th>\n",
       "      <th>Fare</th>\n",
       "      <th>Embarked</th>\n",
       "      <th>Title</th>\n",
       "    </tr>\n",
       "  </thead>\n",
       "  <tbody>\n",
       "    <tr>\n",
       "      <th>0</th>\n",
       "      <td>0</td>\n",
       "      <td>3</td>\n",
       "      <td>male</td>\n",
       "      <td>22.0</td>\n",
       "      <td>1</td>\n",
       "      <td>0</td>\n",
       "      <td>7.2500</td>\n",
       "      <td>S</td>\n",
       "      <td>Mr</td>\n",
       "    </tr>\n",
       "    <tr>\n",
       "      <th>1</th>\n",
       "      <td>1</td>\n",
       "      <td>1</td>\n",
       "      <td>female</td>\n",
       "      <td>38.0</td>\n",
       "      <td>1</td>\n",
       "      <td>0</td>\n",
       "      <td>71.2833</td>\n",
       "      <td>C</td>\n",
       "      <td>Mrs</td>\n",
       "    </tr>\n",
       "    <tr>\n",
       "      <th>2</th>\n",
       "      <td>1</td>\n",
       "      <td>3</td>\n",
       "      <td>female</td>\n",
       "      <td>26.0</td>\n",
       "      <td>0</td>\n",
       "      <td>0</td>\n",
       "      <td>7.9250</td>\n",
       "      <td>S</td>\n",
       "      <td>Miss</td>\n",
       "    </tr>\n",
       "    <tr>\n",
       "      <th>3</th>\n",
       "      <td>1</td>\n",
       "      <td>1</td>\n",
       "      <td>female</td>\n",
       "      <td>35.0</td>\n",
       "      <td>1</td>\n",
       "      <td>0</td>\n",
       "      <td>53.1000</td>\n",
       "      <td>S</td>\n",
       "      <td>Mrs</td>\n",
       "    </tr>\n",
       "    <tr>\n",
       "      <th>4</th>\n",
       "      <td>0</td>\n",
       "      <td>3</td>\n",
       "      <td>male</td>\n",
       "      <td>35.0</td>\n",
       "      <td>0</td>\n",
       "      <td>0</td>\n",
       "      <td>8.0500</td>\n",
       "      <td>S</td>\n",
       "      <td>Mr</td>\n",
       "    </tr>\n",
       "  </tbody>\n",
       "</table>\n",
       "</div>"
      ],
      "text/plain": [
       "   Survived  Pclass     Sex   Age  SibSp  Parch     Fare Embarked Title\n",
       "0         0       3    male  22.0      1      0   7.2500        S    Mr\n",
       "1         1       1  female  38.0      1      0  71.2833        C   Mrs\n",
       "2         1       3  female  26.0      0      0   7.9250        S  Miss\n",
       "3         1       1  female  35.0      1      0  53.1000        S   Mrs\n",
       "4         0       3    male  35.0      0      0   8.0500        S    Mr"
      ]
     },
     "execution_count": 19,
     "metadata": {},
     "output_type": "execute_result"
    }
   ],
   "source": [
    "#First step of cleaning the dataset is dropping unnecessary columns and data. These are outliers\n",
    "#These columns do not contribute to the probability of their survival.\n",
    "#Died is a column created earlier just for visualization to represent 0 values in survived.\n",
    "df1=train.drop(['Name','Ticket','Cabin','PassengerId','Died'], axis=1)\n",
    "df1.head()"
   ]
  },
  {
   "cell_type": "code",
   "execution_count": 20,
   "id": "82961fb1",
   "metadata": {},
   "outputs": [
    {
     "data": {
      "text/plain": [
       "Mr         517\n",
       "Miss       184\n",
       "Mrs        127\n",
       "Master      40\n",
       "Officer     18\n",
       "Royalty      5\n",
       "Name: Title, dtype: int64"
      ]
     },
     "execution_count": 20,
     "metadata": {},
     "output_type": "execute_result"
    }
   ],
   "source": [
    "#.value_counts shows the total number of categorical features for the passengers.\n",
    "train.Title.value_counts()"
   ]
  },
  {
   "cell_type": "code",
   "execution_count": 21,
   "id": "806ad271",
   "metadata": {},
   "outputs": [
    {
     "data": {
      "text/html": [
       "<div>\n",
       "<style scoped>\n",
       "    .dataframe tbody tr th:only-of-type {\n",
       "        vertical-align: middle;\n",
       "    }\n",
       "\n",
       "    .dataframe tbody tr th {\n",
       "        vertical-align: top;\n",
       "    }\n",
       "\n",
       "    .dataframe thead th {\n",
       "        text-align: right;\n",
       "    }\n",
       "</style>\n",
       "<table border=\"1\" class=\"dataframe\">\n",
       "  <thead>\n",
       "    <tr style=\"text-align: right;\">\n",
       "      <th></th>\n",
       "      <th>Survived</th>\n",
       "      <th>Pclass</th>\n",
       "      <th>Sex</th>\n",
       "      <th>Age</th>\n",
       "      <th>SibSp</th>\n",
       "      <th>Parch</th>\n",
       "      <th>Fare</th>\n",
       "      <th>Embarked</th>\n",
       "      <th>Title</th>\n",
       "    </tr>\n",
       "  </thead>\n",
       "  <tbody>\n",
       "    <tr>\n",
       "      <th>0</th>\n",
       "      <td>0</td>\n",
       "      <td>3</td>\n",
       "      <td>1</td>\n",
       "      <td>22.0</td>\n",
       "      <td>1</td>\n",
       "      <td>0</td>\n",
       "      <td>7.2500</td>\n",
       "      <td>0</td>\n",
       "      <td>0</td>\n",
       "    </tr>\n",
       "    <tr>\n",
       "      <th>1</th>\n",
       "      <td>1</td>\n",
       "      <td>1</td>\n",
       "      <td>0</td>\n",
       "      <td>38.0</td>\n",
       "      <td>1</td>\n",
       "      <td>0</td>\n",
       "      <td>71.2833</td>\n",
       "      <td>1</td>\n",
       "      <td>2</td>\n",
       "    </tr>\n",
       "    <tr>\n",
       "      <th>2</th>\n",
       "      <td>1</td>\n",
       "      <td>3</td>\n",
       "      <td>0</td>\n",
       "      <td>26.0</td>\n",
       "      <td>0</td>\n",
       "      <td>0</td>\n",
       "      <td>7.9250</td>\n",
       "      <td>0</td>\n",
       "      <td>1</td>\n",
       "    </tr>\n",
       "    <tr>\n",
       "      <th>3</th>\n",
       "      <td>1</td>\n",
       "      <td>1</td>\n",
       "      <td>0</td>\n",
       "      <td>35.0</td>\n",
       "      <td>1</td>\n",
       "      <td>0</td>\n",
       "      <td>53.1000</td>\n",
       "      <td>0</td>\n",
       "      <td>2</td>\n",
       "    </tr>\n",
       "    <tr>\n",
       "      <th>4</th>\n",
       "      <td>0</td>\n",
       "      <td>3</td>\n",
       "      <td>1</td>\n",
       "      <td>35.0</td>\n",
       "      <td>0</td>\n",
       "      <td>0</td>\n",
       "      <td>8.0500</td>\n",
       "      <td>0</td>\n",
       "      <td>0</td>\n",
       "    </tr>\n",
       "    <tr>\n",
       "      <th>5</th>\n",
       "      <td>0</td>\n",
       "      <td>3</td>\n",
       "      <td>1</td>\n",
       "      <td>NaN</td>\n",
       "      <td>0</td>\n",
       "      <td>0</td>\n",
       "      <td>8.4583</td>\n",
       "      <td>2</td>\n",
       "      <td>0</td>\n",
       "    </tr>\n",
       "    <tr>\n",
       "      <th>6</th>\n",
       "      <td>0</td>\n",
       "      <td>1</td>\n",
       "      <td>1</td>\n",
       "      <td>54.0</td>\n",
       "      <td>0</td>\n",
       "      <td>0</td>\n",
       "      <td>51.8625</td>\n",
       "      <td>0</td>\n",
       "      <td>0</td>\n",
       "    </tr>\n",
       "    <tr>\n",
       "      <th>7</th>\n",
       "      <td>0</td>\n",
       "      <td>3</td>\n",
       "      <td>1</td>\n",
       "      <td>2.0</td>\n",
       "      <td>3</td>\n",
       "      <td>1</td>\n",
       "      <td>21.0750</td>\n",
       "      <td>0</td>\n",
       "      <td>3</td>\n",
       "    </tr>\n",
       "    <tr>\n",
       "      <th>8</th>\n",
       "      <td>1</td>\n",
       "      <td>3</td>\n",
       "      <td>0</td>\n",
       "      <td>27.0</td>\n",
       "      <td>0</td>\n",
       "      <td>2</td>\n",
       "      <td>11.1333</td>\n",
       "      <td>0</td>\n",
       "      <td>2</td>\n",
       "    </tr>\n",
       "    <tr>\n",
       "      <th>9</th>\n",
       "      <td>1</td>\n",
       "      <td>2</td>\n",
       "      <td>0</td>\n",
       "      <td>14.0</td>\n",
       "      <td>1</td>\n",
       "      <td>0</td>\n",
       "      <td>30.0708</td>\n",
       "      <td>1</td>\n",
       "      <td>2</td>\n",
       "    </tr>\n",
       "  </tbody>\n",
       "</table>\n",
       "</div>"
      ],
      "text/plain": [
       "   Survived  Pclass  Sex   Age  SibSp  Parch     Fare Embarked  Title\n",
       "0         0       3    1  22.0      1      0   7.2500        0      0\n",
       "1         1       1    0  38.0      1      0  71.2833        1      2\n",
       "2         1       3    0  26.0      0      0   7.9250        0      1\n",
       "3         1       1    0  35.0      1      0  53.1000        0      2\n",
       "4         0       3    1  35.0      0      0   8.0500        0      0\n",
       "5         0       3    1   NaN      0      0   8.4583        2      0\n",
       "6         0       1    1  54.0      0      0  51.8625        0      0\n",
       "7         0       3    1   2.0      3      1  21.0750        0      3\n",
       "8         1       3    0  27.0      0      2  11.1333        0      2\n",
       "9         1       2    0  14.0      1      0  30.0708        1      2"
      ]
     },
     "execution_count": 21,
     "metadata": {},
     "output_type": "execute_result"
    }
   ],
   "source": [
    "#Conversion of categorical features to numerical values\n",
    "df1.Sex=df1.Sex.map({'female':0, 'male':1})#changes female column values to 0, and male to 1\n",
    "df1.Embarked=df1.Embarked.map({'S':0, 'C':1, 'Q':2,'nan':'NaN'})\n",
    "df1.Title=df1.Title.map({'Mr':0, 'Miss':1, 'Mrs':2,'Master':3,'Officer':4,'Royalty':5})\n",
    "df1.head(10)"
   ]
  },
  {
   "cell_type": "code",
   "execution_count": 22,
   "id": "138c20ba",
   "metadata": {},
   "outputs": [],
   "source": [
    "#Getting the median age for the males and females\n",
    "median_age_men=df1[df1['Sex']==1]['Age'].median()\n",
    "median_age_women=df1[df1['Sex']==0]['Age'].median()"
   ]
  },
  {
   "cell_type": "code",
   "execution_count": 23,
   "id": "843212c3",
   "metadata": {},
   "outputs": [],
   "source": [
    "#null values are filled in 'Age' with respective median age\n",
    "df1.loc[(df1.Age.isnull()) & (df1['Sex']==0),'Age']=median_age_women\n",
    "df1.loc[(df1.Age.isnull()) & (df1['Sex']==1),'Age']=median_age_men"
   ]
  },
  {
   "cell_type": "code",
   "execution_count": 24,
   "id": "feb57143",
   "metadata": {},
   "outputs": [
    {
     "data": {
      "text/plain": [
       "Survived    0\n",
       "Pclass      0\n",
       "Sex         0\n",
       "Age         0\n",
       "SibSp       0\n",
       "Parch       0\n",
       "Fare        0\n",
       "Embarked    2\n",
       "Title       0\n",
       "dtype: int64"
      ]
     },
     "execution_count": 24,
     "metadata": {},
     "output_type": "execute_result"
    }
   ],
   "source": [
    "#checking for null values\n",
    "df1.isnull().sum()"
   ]
  },
  {
   "cell_type": "code",
   "execution_count": 25,
   "id": "80a89b8d",
   "metadata": {},
   "outputs": [],
   "source": [
    "#dropping rows with null value\n",
    "df1.dropna(inplace=True)"
   ]
  },
  {
   "cell_type": "code",
   "execution_count": 26,
   "id": "1c6444ca",
   "metadata": {},
   "outputs": [
    {
     "data": {
      "text/plain": [
       "Survived    0\n",
       "Pclass      0\n",
       "Sex         0\n",
       "Age         0\n",
       "SibSp       0\n",
       "Parch       0\n",
       "Fare        0\n",
       "Embarked    0\n",
       "Title       0\n",
       "dtype: int64"
      ]
     },
     "execution_count": 26,
     "metadata": {},
     "output_type": "execute_result"
    }
   ],
   "source": [
    "#Data is cleaned to have no null value\n",
    "df1.isnull().sum()"
   ]
  },
  {
   "cell_type": "code",
   "execution_count": 27,
   "id": "61ccab38",
   "metadata": {
    "scrolled": true
   },
   "outputs": [
    {
     "data": {
      "text/html": [
       "<div>\n",
       "<style scoped>\n",
       "    .dataframe tbody tr th:only-of-type {\n",
       "        vertical-align: middle;\n",
       "    }\n",
       "\n",
       "    .dataframe tbody tr th {\n",
       "        vertical-align: top;\n",
       "    }\n",
       "\n",
       "    .dataframe thead th {\n",
       "        text-align: right;\n",
       "    }\n",
       "</style>\n",
       "<table border=\"1\" class=\"dataframe\">\n",
       "  <thead>\n",
       "    <tr style=\"text-align: right;\">\n",
       "      <th></th>\n",
       "      <th>Survived</th>\n",
       "      <th>Pclass</th>\n",
       "      <th>Sex</th>\n",
       "      <th>Age</th>\n",
       "      <th>SibSp</th>\n",
       "      <th>Parch</th>\n",
       "      <th>Fare</th>\n",
       "      <th>Embarked</th>\n",
       "      <th>Title</th>\n",
       "    </tr>\n",
       "  </thead>\n",
       "  <tbody>\n",
       "    <tr>\n",
       "      <th>0</th>\n",
       "      <td>0</td>\n",
       "      <td>3</td>\n",
       "      <td>1</td>\n",
       "      <td>22.0</td>\n",
       "      <td>1</td>\n",
       "      <td>0</td>\n",
       "      <td>7.2500</td>\n",
       "      <td>0</td>\n",
       "      <td>0</td>\n",
       "    </tr>\n",
       "    <tr>\n",
       "      <th>1</th>\n",
       "      <td>1</td>\n",
       "      <td>1</td>\n",
       "      <td>0</td>\n",
       "      <td>38.0</td>\n",
       "      <td>1</td>\n",
       "      <td>0</td>\n",
       "      <td>71.2833</td>\n",
       "      <td>1</td>\n",
       "      <td>2</td>\n",
       "    </tr>\n",
       "    <tr>\n",
       "      <th>2</th>\n",
       "      <td>1</td>\n",
       "      <td>3</td>\n",
       "      <td>0</td>\n",
       "      <td>26.0</td>\n",
       "      <td>0</td>\n",
       "      <td>0</td>\n",
       "      <td>7.9250</td>\n",
       "      <td>0</td>\n",
       "      <td>1</td>\n",
       "    </tr>\n",
       "    <tr>\n",
       "      <th>3</th>\n",
       "      <td>1</td>\n",
       "      <td>1</td>\n",
       "      <td>0</td>\n",
       "      <td>35.0</td>\n",
       "      <td>1</td>\n",
       "      <td>0</td>\n",
       "      <td>53.1000</td>\n",
       "      <td>0</td>\n",
       "      <td>2</td>\n",
       "    </tr>\n",
       "    <tr>\n",
       "      <th>4</th>\n",
       "      <td>0</td>\n",
       "      <td>3</td>\n",
       "      <td>1</td>\n",
       "      <td>35.0</td>\n",
       "      <td>0</td>\n",
       "      <td>0</td>\n",
       "      <td>8.0500</td>\n",
       "      <td>0</td>\n",
       "      <td>0</td>\n",
       "    </tr>\n",
       "    <tr>\n",
       "      <th>5</th>\n",
       "      <td>0</td>\n",
       "      <td>3</td>\n",
       "      <td>1</td>\n",
       "      <td>29.0</td>\n",
       "      <td>0</td>\n",
       "      <td>0</td>\n",
       "      <td>8.4583</td>\n",
       "      <td>2</td>\n",
       "      <td>0</td>\n",
       "    </tr>\n",
       "    <tr>\n",
       "      <th>6</th>\n",
       "      <td>0</td>\n",
       "      <td>1</td>\n",
       "      <td>1</td>\n",
       "      <td>54.0</td>\n",
       "      <td>0</td>\n",
       "      <td>0</td>\n",
       "      <td>51.8625</td>\n",
       "      <td>0</td>\n",
       "      <td>0</td>\n",
       "    </tr>\n",
       "    <tr>\n",
       "      <th>7</th>\n",
       "      <td>0</td>\n",
       "      <td>3</td>\n",
       "      <td>1</td>\n",
       "      <td>2.0</td>\n",
       "      <td>3</td>\n",
       "      <td>1</td>\n",
       "      <td>21.0750</td>\n",
       "      <td>0</td>\n",
       "      <td>3</td>\n",
       "    </tr>\n",
       "    <tr>\n",
       "      <th>8</th>\n",
       "      <td>1</td>\n",
       "      <td>3</td>\n",
       "      <td>0</td>\n",
       "      <td>27.0</td>\n",
       "      <td>0</td>\n",
       "      <td>2</td>\n",
       "      <td>11.1333</td>\n",
       "      <td>0</td>\n",
       "      <td>2</td>\n",
       "    </tr>\n",
       "    <tr>\n",
       "      <th>9</th>\n",
       "      <td>1</td>\n",
       "      <td>2</td>\n",
       "      <td>0</td>\n",
       "      <td>14.0</td>\n",
       "      <td>1</td>\n",
       "      <td>0</td>\n",
       "      <td>30.0708</td>\n",
       "      <td>1</td>\n",
       "      <td>2</td>\n",
       "    </tr>\n",
       "  </tbody>\n",
       "</table>\n",
       "</div>"
      ],
      "text/plain": [
       "   Survived  Pclass  Sex   Age  SibSp  Parch     Fare Embarked  Title\n",
       "0         0       3    1  22.0      1      0   7.2500        0      0\n",
       "1         1       1    0  38.0      1      0  71.2833        1      2\n",
       "2         1       3    0  26.0      0      0   7.9250        0      1\n",
       "3         1       1    0  35.0      1      0  53.1000        0      2\n",
       "4         0       3    1  35.0      0      0   8.0500        0      0\n",
       "5         0       3    1  29.0      0      0   8.4583        2      0\n",
       "6         0       1    1  54.0      0      0  51.8625        0      0\n",
       "7         0       3    1   2.0      3      1  21.0750        0      3\n",
       "8         1       3    0  27.0      0      2  11.1333        0      2\n",
       "9         1       2    0  14.0      1      0  30.0708        1      2"
      ]
     },
     "execution_count": 27,
     "metadata": {},
     "output_type": "execute_result"
    }
   ],
   "source": [
    "#cleaned dataset\n",
    "#Once we clean the dataset for training, we can then see an overview of the dataset \n",
    "#by using .head() appended to the dataset variable. The value inside the parenthesis() pertains to the number of rows.\n",
    "df1.head(10)"
   ]
  },
  {
   "cell_type": "code",
   "execution_count": 28,
   "id": "f4b9da80",
   "metadata": {},
   "outputs": [],
   "source": [
    "df1.Age = (df1.Age-min(df1.Age))/(max(df1.Age)-min(df1.Age))\n",
    "df1.Fare = (df1.Fare-min(df1.Fare))/(max(df1.Fare)-min(df1.Fare))"
   ]
  },
  {
   "cell_type": "code",
   "execution_count": 29,
   "id": "983664e4",
   "metadata": {},
   "outputs": [
    {
     "name": "stdout",
     "output_type": "stream",
     "text": [
      "<class 'pandas.core.frame.DataFrame'>\n",
      "Int64Index: 889 entries, 0 to 890\n",
      "Data columns (total 9 columns):\n",
      " #   Column    Non-Null Count  Dtype  \n",
      "---  ------    --------------  -----  \n",
      " 0   Survived  889 non-null    int64  \n",
      " 1   Pclass    889 non-null    int64  \n",
      " 2   Sex       889 non-null    int64  \n",
      " 3   Age       889 non-null    float64\n",
      " 4   SibSp     889 non-null    int64  \n",
      " 5   Parch     889 non-null    int64  \n",
      " 6   Fare      889 non-null    float64\n",
      " 7   Embarked  889 non-null    object \n",
      " 8   Title     889 non-null    int64  \n",
      "dtypes: float64(2), int64(6), object(1)\n",
      "memory usage: 69.5+ KB\n"
     ]
    }
   ],
   "source": [
    "#Show the total number of missing values per column\n",
    "df1.info()"
   ]
  },
  {
   "cell_type": "markdown",
   "id": "170bf1c8",
   "metadata": {},
   "source": [
    "# CLEANING DATASET FOR TESTING"
   ]
  },
  {
   "cell_type": "code",
   "execution_count": 30,
   "id": "4dd9d614",
   "metadata": {},
   "outputs": [
    {
     "data": {
      "text/html": [
       "<div>\n",
       "<style scoped>\n",
       "    .dataframe tbody tr th:only-of-type {\n",
       "        vertical-align: middle;\n",
       "    }\n",
       "\n",
       "    .dataframe tbody tr th {\n",
       "        vertical-align: top;\n",
       "    }\n",
       "\n",
       "    .dataframe thead th {\n",
       "        text-align: right;\n",
       "    }\n",
       "</style>\n",
       "<table border=\"1\" class=\"dataframe\">\n",
       "  <thead>\n",
       "    <tr style=\"text-align: right;\">\n",
       "      <th></th>\n",
       "      <th>PassengerId</th>\n",
       "      <th>Pclass</th>\n",
       "      <th>Name</th>\n",
       "      <th>Sex</th>\n",
       "      <th>Age</th>\n",
       "      <th>SibSp</th>\n",
       "      <th>Parch</th>\n",
       "      <th>Ticket</th>\n",
       "      <th>Fare</th>\n",
       "      <th>Cabin</th>\n",
       "      <th>Embarked</th>\n",
       "    </tr>\n",
       "  </thead>\n",
       "  <tbody>\n",
       "    <tr>\n",
       "      <th>0</th>\n",
       "      <td>892</td>\n",
       "      <td>3</td>\n",
       "      <td>Kelly, Mr. James</td>\n",
       "      <td>male</td>\n",
       "      <td>34.5</td>\n",
       "      <td>0</td>\n",
       "      <td>0</td>\n",
       "      <td>330911</td>\n",
       "      <td>7.8292</td>\n",
       "      <td>NaN</td>\n",
       "      <td>Q</td>\n",
       "    </tr>\n",
       "    <tr>\n",
       "      <th>1</th>\n",
       "      <td>893</td>\n",
       "      <td>3</td>\n",
       "      <td>Wilkes, Mrs. James (Ellen Needs)</td>\n",
       "      <td>female</td>\n",
       "      <td>47.0</td>\n",
       "      <td>1</td>\n",
       "      <td>0</td>\n",
       "      <td>363272</td>\n",
       "      <td>7.0000</td>\n",
       "      <td>NaN</td>\n",
       "      <td>S</td>\n",
       "    </tr>\n",
       "    <tr>\n",
       "      <th>2</th>\n",
       "      <td>894</td>\n",
       "      <td>2</td>\n",
       "      <td>Myles, Mr. Thomas Francis</td>\n",
       "      <td>male</td>\n",
       "      <td>62.0</td>\n",
       "      <td>0</td>\n",
       "      <td>0</td>\n",
       "      <td>240276</td>\n",
       "      <td>9.6875</td>\n",
       "      <td>NaN</td>\n",
       "      <td>Q</td>\n",
       "    </tr>\n",
       "    <tr>\n",
       "      <th>3</th>\n",
       "      <td>895</td>\n",
       "      <td>3</td>\n",
       "      <td>Wirz, Mr. Albert</td>\n",
       "      <td>male</td>\n",
       "      <td>27.0</td>\n",
       "      <td>0</td>\n",
       "      <td>0</td>\n",
       "      <td>315154</td>\n",
       "      <td>8.6625</td>\n",
       "      <td>NaN</td>\n",
       "      <td>S</td>\n",
       "    </tr>\n",
       "    <tr>\n",
       "      <th>4</th>\n",
       "      <td>896</td>\n",
       "      <td>3</td>\n",
       "      <td>Hirvonen, Mrs. Alexander (Helga E Lindqvist)</td>\n",
       "      <td>female</td>\n",
       "      <td>22.0</td>\n",
       "      <td>1</td>\n",
       "      <td>1</td>\n",
       "      <td>3101298</td>\n",
       "      <td>12.2875</td>\n",
       "      <td>NaN</td>\n",
       "      <td>S</td>\n",
       "    </tr>\n",
       "  </tbody>\n",
       "</table>\n",
       "</div>"
      ],
      "text/plain": [
       "   PassengerId  Pclass                                          Name     Sex  \\\n",
       "0          892       3                              Kelly, Mr. James    male   \n",
       "1          893       3              Wilkes, Mrs. James (Ellen Needs)  female   \n",
       "2          894       2                     Myles, Mr. Thomas Francis    male   \n",
       "3          895       3                              Wirz, Mr. Albert    male   \n",
       "4          896       3  Hirvonen, Mrs. Alexander (Helga E Lindqvist)  female   \n",
       "\n",
       "    Age  SibSp  Parch   Ticket     Fare Cabin Embarked  \n",
       "0  34.5      0      0   330911   7.8292   NaN        Q  \n",
       "1  47.0      1      0   363272   7.0000   NaN        S  \n",
       "2  62.0      0      0   240276   9.6875   NaN        Q  \n",
       "3  27.0      0      0   315154   8.6625   NaN        S  \n",
       "4  22.0      1      1  3101298  12.2875   NaN        S  "
      ]
     },
     "execution_count": 30,
     "metadata": {},
     "output_type": "execute_result"
    }
   ],
   "source": [
    "#test dataset\n",
    "test.head()"
   ]
  },
  {
   "cell_type": "code",
   "execution_count": 31,
   "id": "ceb66fe6",
   "metadata": {},
   "outputs": [
    {
     "name": "stdout",
     "output_type": "stream",
     "text": [
      "{'Ms', 'Dr', 'Rev', 'Master', 'Col', 'Mrs', 'Dona', 'Miss', 'Mr'}\n"
     ]
    }
   ],
   "source": [
    "titles = set()\n",
    "for name in test['Name']:titles.add(name.split(',')[1].split('.')[0].strip())\n",
    "print(titles)"
   ]
  },
  {
   "cell_type": "code",
   "execution_count": 32,
   "id": "83c6fa62",
   "metadata": {},
   "outputs": [
    {
     "data": {
      "text/html": [
       "<div>\n",
       "<style scoped>\n",
       "    .dataframe tbody tr th:only-of-type {\n",
       "        vertical-align: middle;\n",
       "    }\n",
       "\n",
       "    .dataframe tbody tr th {\n",
       "        vertical-align: top;\n",
       "    }\n",
       "\n",
       "    .dataframe thead th {\n",
       "        text-align: right;\n",
       "    }\n",
       "</style>\n",
       "<table border=\"1\" class=\"dataframe\">\n",
       "  <thead>\n",
       "    <tr style=\"text-align: right;\">\n",
       "      <th></th>\n",
       "      <th>PassengerId</th>\n",
       "      <th>Pclass</th>\n",
       "      <th>Name</th>\n",
       "      <th>Sex</th>\n",
       "      <th>Age</th>\n",
       "      <th>SibSp</th>\n",
       "      <th>Parch</th>\n",
       "      <th>Ticket</th>\n",
       "      <th>Fare</th>\n",
       "      <th>Cabin</th>\n",
       "      <th>Embarked</th>\n",
       "      <th>Title</th>\n",
       "    </tr>\n",
       "  </thead>\n",
       "  <tbody>\n",
       "    <tr>\n",
       "      <th>0</th>\n",
       "      <td>892</td>\n",
       "      <td>3</td>\n",
       "      <td>Kelly, Mr. James</td>\n",
       "      <td>male</td>\n",
       "      <td>34.5</td>\n",
       "      <td>0</td>\n",
       "      <td>0</td>\n",
       "      <td>330911</td>\n",
       "      <td>7.8292</td>\n",
       "      <td>NaN</td>\n",
       "      <td>Q</td>\n",
       "      <td>Mr</td>\n",
       "    </tr>\n",
       "    <tr>\n",
       "      <th>1</th>\n",
       "      <td>893</td>\n",
       "      <td>3</td>\n",
       "      <td>Wilkes, Mrs. James (Ellen Needs)</td>\n",
       "      <td>female</td>\n",
       "      <td>47.0</td>\n",
       "      <td>1</td>\n",
       "      <td>0</td>\n",
       "      <td>363272</td>\n",
       "      <td>7.0000</td>\n",
       "      <td>NaN</td>\n",
       "      <td>S</td>\n",
       "      <td>Mrs</td>\n",
       "    </tr>\n",
       "    <tr>\n",
       "      <th>2</th>\n",
       "      <td>894</td>\n",
       "      <td>2</td>\n",
       "      <td>Myles, Mr. Thomas Francis</td>\n",
       "      <td>male</td>\n",
       "      <td>62.0</td>\n",
       "      <td>0</td>\n",
       "      <td>0</td>\n",
       "      <td>240276</td>\n",
       "      <td>9.6875</td>\n",
       "      <td>NaN</td>\n",
       "      <td>Q</td>\n",
       "      <td>Mr</td>\n",
       "    </tr>\n",
       "    <tr>\n",
       "      <th>3</th>\n",
       "      <td>895</td>\n",
       "      <td>3</td>\n",
       "      <td>Wirz, Mr. Albert</td>\n",
       "      <td>male</td>\n",
       "      <td>27.0</td>\n",
       "      <td>0</td>\n",
       "      <td>0</td>\n",
       "      <td>315154</td>\n",
       "      <td>8.6625</td>\n",
       "      <td>NaN</td>\n",
       "      <td>S</td>\n",
       "      <td>Mr</td>\n",
       "    </tr>\n",
       "    <tr>\n",
       "      <th>4</th>\n",
       "      <td>896</td>\n",
       "      <td>3</td>\n",
       "      <td>Hirvonen, Mrs. Alexander (Helga E Lindqvist)</td>\n",
       "      <td>female</td>\n",
       "      <td>22.0</td>\n",
       "      <td>1</td>\n",
       "      <td>1</td>\n",
       "      <td>3101298</td>\n",
       "      <td>12.2875</td>\n",
       "      <td>NaN</td>\n",
       "      <td>S</td>\n",
       "      <td>Mrs</td>\n",
       "    </tr>\n",
       "  </tbody>\n",
       "</table>\n",
       "</div>"
      ],
      "text/plain": [
       "   PassengerId  Pclass                                          Name     Sex  \\\n",
       "0          892       3                              Kelly, Mr. James    male   \n",
       "1          893       3              Wilkes, Mrs. James (Ellen Needs)  female   \n",
       "2          894       2                     Myles, Mr. Thomas Francis    male   \n",
       "3          895       3                              Wirz, Mr. Albert    male   \n",
       "4          896       3  Hirvonen, Mrs. Alexander (Helga E Lindqvist)  female   \n",
       "\n",
       "    Age  SibSp  Parch   Ticket     Fare Cabin Embarked Title  \n",
       "0  34.5      0      0   330911   7.8292   NaN        Q    Mr  \n",
       "1  47.0      1      0   363272   7.0000   NaN        S   Mrs  \n",
       "2  62.0      0      0   240276   9.6875   NaN        Q    Mr  \n",
       "3  27.0      0      0   315154   8.6625   NaN        S    Mr  \n",
       "4  22.0      1      1  3101298  12.2875   NaN        S   Mrs  "
      ]
     },
     "execution_count": 32,
     "metadata": {},
     "output_type": "execute_result"
    }
   ],
   "source": [
    "#Here we create another column in the testing dataset as title containing the prefixes in the names of the passengers\n",
    "#periods and commas are also removed.\n",
    "test['Title'] = test['Name'].map(lambda name:name.split(',')[1].split('.')[0].strip())\n",
    "test['Title'] = test.Title.map(Title_Dictionary)\n",
    "test.head()"
   ]
  },
  {
   "cell_type": "code",
   "execution_count": 33,
   "id": "16c8a77f",
   "metadata": {},
   "outputs": [],
   "source": [
    "#dropping unwanted columns for the testing dataset\n",
    "df2=test.drop(['PassengerId','Name','Ticket','Cabin'], axis=1)"
   ]
  },
  {
   "cell_type": "code",
   "execution_count": 34,
   "id": "5834199b",
   "metadata": {},
   "outputs": [
    {
     "data": {
      "text/html": [
       "<div>\n",
       "<style scoped>\n",
       "    .dataframe tbody tr th:only-of-type {\n",
       "        vertical-align: middle;\n",
       "    }\n",
       "\n",
       "    .dataframe tbody tr th {\n",
       "        vertical-align: top;\n",
       "    }\n",
       "\n",
       "    .dataframe thead th {\n",
       "        text-align: right;\n",
       "    }\n",
       "</style>\n",
       "<table border=\"1\" class=\"dataframe\">\n",
       "  <thead>\n",
       "    <tr style=\"text-align: right;\">\n",
       "      <th></th>\n",
       "      <th>Pclass</th>\n",
       "      <th>Sex</th>\n",
       "      <th>Age</th>\n",
       "      <th>SibSp</th>\n",
       "      <th>Parch</th>\n",
       "      <th>Fare</th>\n",
       "      <th>Embarked</th>\n",
       "      <th>Title</th>\n",
       "    </tr>\n",
       "  </thead>\n",
       "  <tbody>\n",
       "    <tr>\n",
       "      <th>0</th>\n",
       "      <td>3</td>\n",
       "      <td>1</td>\n",
       "      <td>34.5</td>\n",
       "      <td>0</td>\n",
       "      <td>0</td>\n",
       "      <td>7.8292</td>\n",
       "      <td>2</td>\n",
       "      <td>0.0</td>\n",
       "    </tr>\n",
       "    <tr>\n",
       "      <th>1</th>\n",
       "      <td>3</td>\n",
       "      <td>0</td>\n",
       "      <td>47.0</td>\n",
       "      <td>1</td>\n",
       "      <td>0</td>\n",
       "      <td>7.0000</td>\n",
       "      <td>0</td>\n",
       "      <td>2.0</td>\n",
       "    </tr>\n",
       "    <tr>\n",
       "      <th>2</th>\n",
       "      <td>2</td>\n",
       "      <td>1</td>\n",
       "      <td>62.0</td>\n",
       "      <td>0</td>\n",
       "      <td>0</td>\n",
       "      <td>9.6875</td>\n",
       "      <td>2</td>\n",
       "      <td>0.0</td>\n",
       "    </tr>\n",
       "    <tr>\n",
       "      <th>3</th>\n",
       "      <td>3</td>\n",
       "      <td>1</td>\n",
       "      <td>27.0</td>\n",
       "      <td>0</td>\n",
       "      <td>0</td>\n",
       "      <td>8.6625</td>\n",
       "      <td>0</td>\n",
       "      <td>0.0</td>\n",
       "    </tr>\n",
       "    <tr>\n",
       "      <th>4</th>\n",
       "      <td>3</td>\n",
       "      <td>0</td>\n",
       "      <td>22.0</td>\n",
       "      <td>1</td>\n",
       "      <td>1</td>\n",
       "      <td>12.2875</td>\n",
       "      <td>0</td>\n",
       "      <td>2.0</td>\n",
       "    </tr>\n",
       "  </tbody>\n",
       "</table>\n",
       "</div>"
      ],
      "text/plain": [
       "   Pclass  Sex   Age  SibSp  Parch     Fare Embarked  Title\n",
       "0       3    1  34.5      0      0   7.8292        2    0.0\n",
       "1       3    0  47.0      1      0   7.0000        0    2.0\n",
       "2       2    1  62.0      0      0   9.6875        2    0.0\n",
       "3       3    1  27.0      0      0   8.6625        0    0.0\n",
       "4       3    0  22.0      1      1  12.2875        0    2.0"
      ]
     },
     "execution_count": 34,
     "metadata": {},
     "output_type": "execute_result"
    }
   ],
   "source": [
    "#Converting categorical feature to numeric in the testing dataset\n",
    "df2.Sex=df2.Sex.map({'female':0, 'male':1})\n",
    "df2.Embarked=df2.Embarked.map({'S':0, 'C':1, 'Q':2,'nan':'nan'})\n",
    "df2.Title=df2.Title.map({'Mr':0, 'Miss':1, 'Mrs':2,'Master':3,'Officer':4,'Royalty':5})\n",
    "df2.head()"
   ]
  },
  {
   "cell_type": "code",
   "execution_count": 35,
   "id": "d4dd4ee7",
   "metadata": {},
   "outputs": [
    {
     "data": {
      "text/plain": [
       "Pclass       0\n",
       "Sex          0\n",
       "Age         86\n",
       "SibSp        0\n",
       "Parch        0\n",
       "Fare         1\n",
       "Embarked     0\n",
       "Title        1\n",
       "dtype: int64"
      ]
     },
     "execution_count": 35,
     "metadata": {},
     "output_type": "execute_result"
    }
   ],
   "source": [
    "#Checking for null values\n",
    "df2.isnull().sum()"
   ]
  },
  {
   "cell_type": "code",
   "execution_count": 36,
   "id": "ec182c63",
   "metadata": {},
   "outputs": [],
   "source": [
    "#median age of each sex in the testing data\n",
    "median_age_men2=df2[df2['Sex']==1]['Age'].median()\n",
    "median_age_women2=df2[df2['Sex']==0]['Age'].median()"
   ]
  },
  {
   "cell_type": "code",
   "execution_count": 37,
   "id": "b35ccbc6",
   "metadata": {},
   "outputs": [],
   "source": [
    "#null values are replaced with the respective median age for the testing data\n",
    "df2.loc[(df2.Age.isnull()) & (df2['Sex']==0),'Age']=median_age_women2\n",
    "df2.loc[(df2.Age.isnull()) & (df2['Sex']==1),'Age']=median_age_men2"
   ]
  },
  {
   "cell_type": "code",
   "execution_count": 38,
   "id": "ac922c15",
   "metadata": {},
   "outputs": [],
   "source": [
    "#filling null values with median fare\n",
    "df2['Fare']=df2['Fare'].fillna(df2['Fare'].median())"
   ]
  },
  {
   "cell_type": "code",
   "execution_count": 39,
   "id": "7c71ebef",
   "metadata": {},
   "outputs": [
    {
     "data": {
      "text/plain": [
       "Pclass      0\n",
       "Sex         0\n",
       "Age         0\n",
       "SibSp       0\n",
       "Parch       0\n",
       "Fare        0\n",
       "Embarked    0\n",
       "Title       1\n",
       "dtype: int64"
      ]
     },
     "execution_count": 39,
     "metadata": {},
     "output_type": "execute_result"
    }
   ],
   "source": [
    "df2.isnull().sum()"
   ]
  },
  {
   "cell_type": "code",
   "execution_count": 40,
   "id": "fee2ea27",
   "metadata": {},
   "outputs": [
    {
     "data": {
      "text/html": [
       "<div>\n",
       "<style scoped>\n",
       "    .dataframe tbody tr th:only-of-type {\n",
       "        vertical-align: middle;\n",
       "    }\n",
       "\n",
       "    .dataframe tbody tr th {\n",
       "        vertical-align: top;\n",
       "    }\n",
       "\n",
       "    .dataframe thead th {\n",
       "        text-align: right;\n",
       "    }\n",
       "</style>\n",
       "<table border=\"1\" class=\"dataframe\">\n",
       "  <thead>\n",
       "    <tr style=\"text-align: right;\">\n",
       "      <th></th>\n",
       "      <th>Pclass</th>\n",
       "      <th>Sex</th>\n",
       "      <th>Age</th>\n",
       "      <th>SibSp</th>\n",
       "      <th>Parch</th>\n",
       "      <th>Fare</th>\n",
       "      <th>Embarked</th>\n",
       "      <th>Title</th>\n",
       "    </tr>\n",
       "  </thead>\n",
       "  <tbody>\n",
       "    <tr>\n",
       "      <th>414</th>\n",
       "      <td>1</td>\n",
       "      <td>0</td>\n",
       "      <td>39.0</td>\n",
       "      <td>0</td>\n",
       "      <td>0</td>\n",
       "      <td>108.9</td>\n",
       "      <td>1</td>\n",
       "      <td>NaN</td>\n",
       "    </tr>\n",
       "  </tbody>\n",
       "</table>\n",
       "</div>"
      ],
      "text/plain": [
       "     Pclass  Sex   Age  SibSp  Parch   Fare Embarked  Title\n",
       "414       1    0  39.0      0      0  108.9        1    NaN"
      ]
     },
     "execution_count": 40,
     "metadata": {},
     "output_type": "execute_result"
    }
   ],
   "source": [
    "#Display the null values for the title column.\n",
    "df2[df2.Title.isnull()]"
   ]
  },
  {
   "cell_type": "code",
   "execution_count": 41,
   "id": "129cc86d",
   "metadata": {},
   "outputs": [],
   "source": [
    "df2=df2.fillna(2)"
   ]
  },
  {
   "cell_type": "code",
   "execution_count": 42,
   "id": "57bd6e0a",
   "metadata": {},
   "outputs": [
    {
     "data": {
      "text/plain": [
       "Pclass      0\n",
       "Sex         0\n",
       "Age         0\n",
       "SibSp       0\n",
       "Parch       0\n",
       "Fare        0\n",
       "Embarked    0\n",
       "Title       0\n",
       "dtype: int64"
      ]
     },
     "execution_count": 42,
     "metadata": {},
     "output_type": "execute_result"
    }
   ],
   "source": [
    "#Null values from the data are cleaned\n",
    "df2.isnull().sum()"
   ]
  },
  {
   "cell_type": "code",
   "execution_count": 43,
   "id": "5a7af8e5",
   "metadata": {},
   "outputs": [
    {
     "data": {
      "text/html": [
       "<div>\n",
       "<style scoped>\n",
       "    .dataframe tbody tr th:only-of-type {\n",
       "        vertical-align: middle;\n",
       "    }\n",
       "\n",
       "    .dataframe tbody tr th {\n",
       "        vertical-align: top;\n",
       "    }\n",
       "\n",
       "    .dataframe thead th {\n",
       "        text-align: right;\n",
       "    }\n",
       "</style>\n",
       "<table border=\"1\" class=\"dataframe\">\n",
       "  <thead>\n",
       "    <tr style=\"text-align: right;\">\n",
       "      <th></th>\n",
       "      <th>Pclass</th>\n",
       "      <th>Sex</th>\n",
       "      <th>Age</th>\n",
       "      <th>SibSp</th>\n",
       "      <th>Parch</th>\n",
       "      <th>Fare</th>\n",
       "      <th>Embarked</th>\n",
       "      <th>Title</th>\n",
       "    </tr>\n",
       "  </thead>\n",
       "  <tbody>\n",
       "    <tr>\n",
       "      <th>0</th>\n",
       "      <td>3</td>\n",
       "      <td>1</td>\n",
       "      <td>34.5</td>\n",
       "      <td>0</td>\n",
       "      <td>0</td>\n",
       "      <td>7.8292</td>\n",
       "      <td>2</td>\n",
       "      <td>0.0</td>\n",
       "    </tr>\n",
       "    <tr>\n",
       "      <th>1</th>\n",
       "      <td>3</td>\n",
       "      <td>0</td>\n",
       "      <td>47.0</td>\n",
       "      <td>1</td>\n",
       "      <td>0</td>\n",
       "      <td>7.0000</td>\n",
       "      <td>0</td>\n",
       "      <td>2.0</td>\n",
       "    </tr>\n",
       "    <tr>\n",
       "      <th>2</th>\n",
       "      <td>2</td>\n",
       "      <td>1</td>\n",
       "      <td>62.0</td>\n",
       "      <td>0</td>\n",
       "      <td>0</td>\n",
       "      <td>9.6875</td>\n",
       "      <td>2</td>\n",
       "      <td>0.0</td>\n",
       "    </tr>\n",
       "    <tr>\n",
       "      <th>3</th>\n",
       "      <td>3</td>\n",
       "      <td>1</td>\n",
       "      <td>27.0</td>\n",
       "      <td>0</td>\n",
       "      <td>0</td>\n",
       "      <td>8.6625</td>\n",
       "      <td>0</td>\n",
       "      <td>0.0</td>\n",
       "    </tr>\n",
       "    <tr>\n",
       "      <th>4</th>\n",
       "      <td>3</td>\n",
       "      <td>0</td>\n",
       "      <td>22.0</td>\n",
       "      <td>1</td>\n",
       "      <td>1</td>\n",
       "      <td>12.2875</td>\n",
       "      <td>0</td>\n",
       "      <td>2.0</td>\n",
       "    </tr>\n",
       "    <tr>\n",
       "      <th>5</th>\n",
       "      <td>3</td>\n",
       "      <td>1</td>\n",
       "      <td>14.0</td>\n",
       "      <td>0</td>\n",
       "      <td>0</td>\n",
       "      <td>9.2250</td>\n",
       "      <td>0</td>\n",
       "      <td>0.0</td>\n",
       "    </tr>\n",
       "    <tr>\n",
       "      <th>6</th>\n",
       "      <td>3</td>\n",
       "      <td>0</td>\n",
       "      <td>30.0</td>\n",
       "      <td>0</td>\n",
       "      <td>0</td>\n",
       "      <td>7.6292</td>\n",
       "      <td>2</td>\n",
       "      <td>1.0</td>\n",
       "    </tr>\n",
       "    <tr>\n",
       "      <th>7</th>\n",
       "      <td>2</td>\n",
       "      <td>1</td>\n",
       "      <td>26.0</td>\n",
       "      <td>1</td>\n",
       "      <td>1</td>\n",
       "      <td>29.0000</td>\n",
       "      <td>0</td>\n",
       "      <td>0.0</td>\n",
       "    </tr>\n",
       "    <tr>\n",
       "      <th>8</th>\n",
       "      <td>3</td>\n",
       "      <td>0</td>\n",
       "      <td>18.0</td>\n",
       "      <td>0</td>\n",
       "      <td>0</td>\n",
       "      <td>7.2292</td>\n",
       "      <td>1</td>\n",
       "      <td>2.0</td>\n",
       "    </tr>\n",
       "    <tr>\n",
       "      <th>9</th>\n",
       "      <td>3</td>\n",
       "      <td>1</td>\n",
       "      <td>21.0</td>\n",
       "      <td>2</td>\n",
       "      <td>0</td>\n",
       "      <td>24.1500</td>\n",
       "      <td>0</td>\n",
       "      <td>0.0</td>\n",
       "    </tr>\n",
       "  </tbody>\n",
       "</table>\n",
       "</div>"
      ],
      "text/plain": [
       "   Pclass  Sex   Age  SibSp  Parch     Fare  Embarked  Title\n",
       "0       3    1  34.5      0      0   7.8292         2    0.0\n",
       "1       3    0  47.0      1      0   7.0000         0    2.0\n",
       "2       2    1  62.0      0      0   9.6875         2    0.0\n",
       "3       3    1  27.0      0      0   8.6625         0    0.0\n",
       "4       3    0  22.0      1      1  12.2875         0    2.0\n",
       "5       3    1  14.0      0      0   9.2250         0    0.0\n",
       "6       3    0  30.0      0      0   7.6292         2    1.0\n",
       "7       2    1  26.0      1      1  29.0000         0    0.0\n",
       "8       3    0  18.0      0      0   7.2292         1    2.0\n",
       "9       3    1  21.0      2      0  24.1500         0    0.0"
      ]
     },
     "execution_count": 43,
     "metadata": {},
     "output_type": "execute_result"
    }
   ],
   "source": [
    "#Once we clean the dataset for testing, we can then see an overview of the dataset \n",
    "#by using .head() appended to the dataset variable. The value inside the parenthesis() pertains to the number of rows.\n",
    "df2.head(10)"
   ]
  },
  {
   "cell_type": "code",
   "execution_count": 44,
   "id": "b03850ed",
   "metadata": {},
   "outputs": [],
   "source": [
    "#scaling the features\n",
    "df2.Age = (df2.Age-min(df2.Age))/(max(df2.Age)-min(df2.Age))\n",
    "df2.Fare = (df2.Fare-min(df2.Fare))/(max(df2.Fare)-min(df2.Fare))"
   ]
  },
  {
   "cell_type": "code",
   "execution_count": 77,
   "id": "ce254b53",
   "metadata": {},
   "outputs": [
    {
     "data": {
      "text/html": [
       "<div>\n",
       "<style scoped>\n",
       "    .dataframe tbody tr th:only-of-type {\n",
       "        vertical-align: middle;\n",
       "    }\n",
       "\n",
       "    .dataframe tbody tr th {\n",
       "        vertical-align: top;\n",
       "    }\n",
       "\n",
       "    .dataframe thead th {\n",
       "        text-align: right;\n",
       "    }\n",
       "</style>\n",
       "<table border=\"1\" class=\"dataframe\">\n",
       "  <thead>\n",
       "    <tr style=\"text-align: right;\">\n",
       "      <th></th>\n",
       "      <th>Pclass</th>\n",
       "      <th>Sex</th>\n",
       "      <th>Age</th>\n",
       "      <th>SibSp</th>\n",
       "      <th>Parch</th>\n",
       "      <th>Fare</th>\n",
       "      <th>Embarked</th>\n",
       "      <th>Title</th>\n",
       "    </tr>\n",
       "  </thead>\n",
       "  <tbody>\n",
       "    <tr>\n",
       "      <th>0</th>\n",
       "      <td>3</td>\n",
       "      <td>1</td>\n",
       "      <td>0.452723</td>\n",
       "      <td>0</td>\n",
       "      <td>0</td>\n",
       "      <td>0.015282</td>\n",
       "      <td>2</td>\n",
       "      <td>0.0</td>\n",
       "    </tr>\n",
       "    <tr>\n",
       "      <th>1</th>\n",
       "      <td>3</td>\n",
       "      <td>0</td>\n",
       "      <td>0.617566</td>\n",
       "      <td>1</td>\n",
       "      <td>0</td>\n",
       "      <td>0.013663</td>\n",
       "      <td>0</td>\n",
       "      <td>2.0</td>\n",
       "    </tr>\n",
       "    <tr>\n",
       "      <th>2</th>\n",
       "      <td>2</td>\n",
       "      <td>1</td>\n",
       "      <td>0.815377</td>\n",
       "      <td>0</td>\n",
       "      <td>0</td>\n",
       "      <td>0.018909</td>\n",
       "      <td>2</td>\n",
       "      <td>0.0</td>\n",
       "    </tr>\n",
       "    <tr>\n",
       "      <th>3</th>\n",
       "      <td>3</td>\n",
       "      <td>1</td>\n",
       "      <td>0.353818</td>\n",
       "      <td>0</td>\n",
       "      <td>0</td>\n",
       "      <td>0.016908</td>\n",
       "      <td>0</td>\n",
       "      <td>0.0</td>\n",
       "    </tr>\n",
       "    <tr>\n",
       "      <th>4</th>\n",
       "      <td>3</td>\n",
       "      <td>0</td>\n",
       "      <td>0.287881</td>\n",
       "      <td>1</td>\n",
       "      <td>1</td>\n",
       "      <td>0.023984</td>\n",
       "      <td>0</td>\n",
       "      <td>2.0</td>\n",
       "    </tr>\n",
       "    <tr>\n",
       "      <th>5</th>\n",
       "      <td>3</td>\n",
       "      <td>1</td>\n",
       "      <td>0.182382</td>\n",
       "      <td>0</td>\n",
       "      <td>0</td>\n",
       "      <td>0.018006</td>\n",
       "      <td>0</td>\n",
       "      <td>0.0</td>\n",
       "    </tr>\n",
       "    <tr>\n",
       "      <th>6</th>\n",
       "      <td>3</td>\n",
       "      <td>0</td>\n",
       "      <td>0.393380</td>\n",
       "      <td>0</td>\n",
       "      <td>0</td>\n",
       "      <td>0.014891</td>\n",
       "      <td>2</td>\n",
       "      <td>1.0</td>\n",
       "    </tr>\n",
       "    <tr>\n",
       "      <th>7</th>\n",
       "      <td>2</td>\n",
       "      <td>1</td>\n",
       "      <td>0.340630</td>\n",
       "      <td>1</td>\n",
       "      <td>1</td>\n",
       "      <td>0.056604</td>\n",
       "      <td>0</td>\n",
       "      <td>0.0</td>\n",
       "    </tr>\n",
       "    <tr>\n",
       "      <th>8</th>\n",
       "      <td>3</td>\n",
       "      <td>0</td>\n",
       "      <td>0.235131</td>\n",
       "      <td>0</td>\n",
       "      <td>0</td>\n",
       "      <td>0.014110</td>\n",
       "      <td>1</td>\n",
       "      <td>2.0</td>\n",
       "    </tr>\n",
       "    <tr>\n",
       "      <th>9</th>\n",
       "      <td>3</td>\n",
       "      <td>1</td>\n",
       "      <td>0.274693</td>\n",
       "      <td>2</td>\n",
       "      <td>0</td>\n",
       "      <td>0.047138</td>\n",
       "      <td>0</td>\n",
       "      <td>0.0</td>\n",
       "    </tr>\n",
       "  </tbody>\n",
       "</table>\n",
       "</div>"
      ],
      "text/plain": [
       "   Pclass  Sex       Age  SibSp  Parch      Fare  Embarked  Title\n",
       "0       3    1  0.452723      0      0  0.015282         2    0.0\n",
       "1       3    0  0.617566      1      0  0.013663         0    2.0\n",
       "2       2    1  0.815377      0      0  0.018909         2    0.0\n",
       "3       3    1  0.353818      0      0  0.016908         0    0.0\n",
       "4       3    0  0.287881      1      1  0.023984         0    2.0\n",
       "5       3    1  0.182382      0      0  0.018006         0    0.0\n",
       "6       3    0  0.393380      0      0  0.014891         2    1.0\n",
       "7       2    1  0.340630      1      1  0.056604         0    0.0\n",
       "8       3    0  0.235131      0      0  0.014110         1    2.0\n",
       "9       3    1  0.274693      2      0  0.047138         0    0.0"
      ]
     },
     "execution_count": 77,
     "metadata": {},
     "output_type": "execute_result"
    }
   ],
   "source": [
    "#dataset overview after cleaning\n",
    "df2.head(10)"
   ]
  },
  {
   "cell_type": "markdown",
   "id": "9c074a30",
   "metadata": {},
   "source": [
    "# CHOOSING AND TRAINING THE MODELS"
   ]
  },
  {
   "cell_type": "code",
   "execution_count": 46,
   "id": "5d446416",
   "metadata": {},
   "outputs": [],
   "source": [
    "#Split the training and testing data with test size at 20%\n",
    "X_train, X_test, y_train, y_test = train_test_split(df1.drop(['Survived'], axis=1),df1.Survived,test_size= 0.2, \n",
    "random_state=0, stratify=df1.Survived) #stratify is used to make the Survived column from the training dataset as the output."
   ]
  },
  {
   "cell_type": "code",
   "execution_count": 47,
   "id": "0e6a612d",
   "metadata": {},
   "outputs": [],
   "source": [
    "#Logistic regression\n",
    "clf = LogisticRegression()\n",
    "clf.fit(X_train, y_train)\n",
    "Y_pred = clf.predict(X_test)"
   ]
  },
  {
   "cell_type": "code",
   "execution_count": 48,
   "id": "4e497310",
   "metadata": {},
   "outputs": [],
   "source": [
    "#KNN Classifier\n",
    "from sklearn.neighbors import KNeighborsClassifier\n",
    "clf2 = KNeighborsClassifier(n_neighbors = 5)\n",
    "clf2.fit(X_train, y_train)\n",
    "Y_pred2 = clf2.predict(X_test)"
   ]
  },
  {
   "cell_type": "code",
   "execution_count": 49,
   "id": "1d0aa715",
   "metadata": {},
   "outputs": [],
   "source": [
    "#Convert the data to fit in the Keras model\n",
    "X_train2 = np.asarray(X_train).astype(np.float32)\n",
    "y_train2 = np.asarray(y_train).astype(np.float32)\n",
    "X_test2 = np.asarray(X_test).astype(np.float32)"
   ]
  },
  {
   "cell_type": "code",
   "execution_count": 50,
   "id": "5130a7c2",
   "metadata": {},
   "outputs": [],
   "source": [
    "#define the keras model\n",
    "model = Sequential()\n",
    "model.add(Dense(12, input_shape=(8,), activation='relu')) #we use input shape as (8,) because there are 8 features that we need\n",
    "model.add(Dense(8, activation='relu')) #this is the hidden layer\n",
    "model.add(Dense(1, activation='sigmoid')) #this is the output layer (1 output for classification)"
   ]
  },
  {
   "cell_type": "code",
   "execution_count": 51,
   "id": "23a5d7f3",
   "metadata": {},
   "outputs": [],
   "source": [
    "#compile the keras model\n",
    "model.compile(loss='binary_crossentropy', optimizer='adam', metrics=['accuracy'])\n",
    "#from our class about neural networks, you can use different "
   ]
  },
  {
   "cell_type": "code",
   "execution_count": 52,
   "id": "f833338b",
   "metadata": {},
   "outputs": [
    {
     "name": "stdout",
     "output_type": "stream",
     "text": [
      "Epoch 1/150\n",
      "72/72 [==============================] - 1s 1ms/step - loss: 0.6337 - accuracy: 0.7046\n",
      "Epoch 2/150\n",
      "72/72 [==============================] - 0s 1ms/step - loss: 0.5753 - accuracy: 0.6948\n",
      "Epoch 3/150\n",
      "72/72 [==============================] - 0s 1ms/step - loss: 0.5470 - accuracy: 0.7159\n",
      "Epoch 4/150\n",
      "72/72 [==============================] - 0s 1ms/step - loss: 0.5258 - accuracy: 0.7750\n",
      "Epoch 5/150\n",
      "72/72 [==============================] - 0s 1ms/step - loss: 0.5113 - accuracy: 0.7904\n",
      "Epoch 6/150\n",
      "72/72 [==============================] - 0s 1ms/step - loss: 0.5005 - accuracy: 0.7918\n",
      "Epoch 7/150\n",
      "72/72 [==============================] - 0s 1ms/step - loss: 0.4920 - accuracy: 0.7947\n",
      "Epoch 8/150\n",
      "72/72 [==============================] - 0s 1ms/step - loss: 0.4861 - accuracy: 0.7975\n",
      "Epoch 9/150\n",
      "72/72 [==============================] - 0s 1ms/step - loss: 0.4800 - accuracy: 0.7918\n",
      "Epoch 10/150\n",
      "72/72 [==============================] - 0s 1ms/step - loss: 0.4765 - accuracy: 0.7918\n",
      "Epoch 11/150\n",
      "72/72 [==============================] - 0s 1ms/step - loss: 0.4709 - accuracy: 0.8017\n",
      "Epoch 12/150\n",
      "72/72 [==============================] - 0s 1ms/step - loss: 0.4697 - accuracy: 0.7947\n",
      "Epoch 13/150\n",
      "72/72 [==============================] - 0s 1ms/step - loss: 0.4664 - accuracy: 0.7947\n",
      "Epoch 14/150\n",
      "72/72 [==============================] - 0s 1ms/step - loss: 0.4635 - accuracy: 0.7975\n",
      "Epoch 15/150\n",
      "72/72 [==============================] - 0s 1ms/step - loss: 0.4590 - accuracy: 0.7989\n",
      "Epoch 16/150\n",
      "72/72 [==============================] - 0s 1ms/step - loss: 0.4581 - accuracy: 0.7947\n",
      "Epoch 17/150\n",
      "72/72 [==============================] - 0s 1ms/step - loss: 0.4558 - accuracy: 0.7947\n",
      "Epoch 18/150\n",
      "72/72 [==============================] - 0s 1ms/step - loss: 0.4544 - accuracy: 0.7961\n",
      "Epoch 19/150\n",
      "72/72 [==============================] - 0s 1ms/step - loss: 0.4536 - accuracy: 0.7975\n",
      "Epoch 20/150\n",
      "72/72 [==============================] - 0s 1ms/step - loss: 0.4516 - accuracy: 0.8031\n",
      "Epoch 21/150\n",
      "72/72 [==============================] - 0s 1ms/step - loss: 0.4490 - accuracy: 0.8045\n",
      "Epoch 22/150\n",
      "72/72 [==============================] - 0s 1ms/step - loss: 0.4470 - accuracy: 0.8045\n",
      "Epoch 23/150\n",
      "72/72 [==============================] - 0s 1ms/step - loss: 0.4467 - accuracy: 0.8073\n",
      "Epoch 24/150\n",
      "72/72 [==============================] - 0s 1ms/step - loss: 0.4442 - accuracy: 0.8087\n",
      "Epoch 25/150\n",
      "72/72 [==============================] - 0s 1ms/step - loss: 0.4431 - accuracy: 0.8129\n",
      "Epoch 26/150\n",
      "72/72 [==============================] - 0s 1ms/step - loss: 0.4414 - accuracy: 0.8129\n",
      "Epoch 27/150\n",
      "72/72 [==============================] - 0s 1ms/step - loss: 0.4407 - accuracy: 0.8158\n",
      "Epoch 28/150\n",
      "72/72 [==============================] - 0s 1ms/step - loss: 0.4391 - accuracy: 0.8158\n",
      "Epoch 29/150\n",
      "72/72 [==============================] - 0s 1ms/step - loss: 0.4388 - accuracy: 0.8143\n",
      "Epoch 30/150\n",
      "72/72 [==============================] - 0s 1ms/step - loss: 0.4373 - accuracy: 0.8115\n",
      "Epoch 31/150\n",
      "72/72 [==============================] - 0s 1ms/step - loss: 0.4365 - accuracy: 0.8172\n",
      "Epoch 32/150\n",
      "72/72 [==============================] - 0s 1ms/step - loss: 0.4374 - accuracy: 0.8158\n",
      "Epoch 33/150\n",
      "72/72 [==============================] - 0s 1ms/step - loss: 0.4364 - accuracy: 0.8129\n",
      "Epoch 34/150\n",
      "72/72 [==============================] - 0s 1ms/step - loss: 0.4348 - accuracy: 0.8143\n",
      "Epoch 35/150\n",
      "72/72 [==============================] - 0s 1ms/step - loss: 0.4325 - accuracy: 0.8158\n",
      "Epoch 36/150\n",
      "72/72 [==============================] - 0s 1ms/step - loss: 0.4323 - accuracy: 0.8158\n",
      "Epoch 37/150\n",
      "72/72 [==============================] - 0s 1ms/step - loss: 0.4323 - accuracy: 0.8143\n",
      "Epoch 38/150\n",
      "72/72 [==============================] - 0s 1ms/step - loss: 0.4320 - accuracy: 0.8214\n",
      "Epoch 39/150\n",
      "72/72 [==============================] - 0s 1ms/step - loss: 0.4308 - accuracy: 0.8129\n",
      "Epoch 40/150\n",
      "72/72 [==============================] - 0s 1ms/step - loss: 0.4293 - accuracy: 0.8200\n",
      "Epoch 41/150\n",
      "72/72 [==============================] - 0s 1ms/step - loss: 0.4303 - accuracy: 0.8143\n",
      "Epoch 42/150\n",
      "72/72 [==============================] - 0s 1ms/step - loss: 0.4289 - accuracy: 0.8172\n",
      "Epoch 43/150\n",
      "72/72 [==============================] - 0s 1ms/step - loss: 0.4278 - accuracy: 0.8186\n",
      "Epoch 44/150\n",
      "72/72 [==============================] - 0s 1ms/step - loss: 0.4264 - accuracy: 0.8186\n",
      "Epoch 45/150\n",
      "72/72 [==============================] - 0s 1ms/step - loss: 0.4268 - accuracy: 0.8143\n",
      "Epoch 46/150\n",
      "72/72 [==============================] - 0s 1ms/step - loss: 0.4248 - accuracy: 0.8172\n",
      "Epoch 47/150\n",
      "72/72 [==============================] - 0s 1ms/step - loss: 0.4251 - accuracy: 0.8158\n",
      "Epoch 48/150\n",
      "72/72 [==============================] - 0s 1ms/step - loss: 0.4230 - accuracy: 0.8186\n",
      "Epoch 49/150\n",
      "72/72 [==============================] - 0s 1ms/step - loss: 0.4232 - accuracy: 0.8158\n",
      "Epoch 50/150\n",
      "72/72 [==============================] - 0s 1ms/step - loss: 0.4228 - accuracy: 0.8214\n",
      "Epoch 51/150\n",
      "72/72 [==============================] - 0s 1ms/step - loss: 0.4216 - accuracy: 0.8186\n",
      "Epoch 52/150\n",
      "72/72 [==============================] - 0s 1ms/step - loss: 0.4205 - accuracy: 0.8172\n",
      "Epoch 53/150\n",
      "72/72 [==============================] - 0s 1ms/step - loss: 0.4200 - accuracy: 0.8214\n",
      "Epoch 54/150\n",
      "72/72 [==============================] - 0s 1ms/step - loss: 0.4224 - accuracy: 0.8186\n",
      "Epoch 55/150\n",
      "72/72 [==============================] - 0s 1ms/step - loss: 0.4192 - accuracy: 0.8200\n",
      "Epoch 56/150\n",
      "72/72 [==============================] - 0s 1ms/step - loss: 0.4192 - accuracy: 0.8228\n",
      "Epoch 57/150\n",
      "72/72 [==============================] - 0s 1ms/step - loss: 0.4195 - accuracy: 0.8186\n",
      "Epoch 58/150\n",
      "72/72 [==============================] - 0s 1ms/step - loss: 0.4182 - accuracy: 0.8228\n",
      "Epoch 59/150\n",
      "72/72 [==============================] - 0s 1ms/step - loss: 0.4173 - accuracy: 0.8200\n",
      "Epoch 60/150\n",
      "72/72 [==============================] - 0s 1ms/step - loss: 0.4187 - accuracy: 0.8256\n",
      "Epoch 61/150\n",
      "72/72 [==============================] - 0s 1ms/step - loss: 0.4182 - accuracy: 0.8242\n",
      "Epoch 62/150\n",
      "72/72 [==============================] - 0s 1ms/step - loss: 0.4151 - accuracy: 0.8214\n",
      "Epoch 63/150\n",
      "72/72 [==============================] - 0s 1ms/step - loss: 0.4170 - accuracy: 0.8186\n",
      "Epoch 64/150\n",
      "72/72 [==============================] - 0s 1ms/step - loss: 0.4148 - accuracy: 0.8270\n",
      "Epoch 65/150\n",
      "72/72 [==============================] - 0s 1ms/step - loss: 0.4151 - accuracy: 0.8256\n",
      "Epoch 66/150\n",
      "72/72 [==============================] - 0s 1ms/step - loss: 0.4168 - accuracy: 0.8214\n",
      "Epoch 67/150\n",
      "72/72 [==============================] - 0s 1ms/step - loss: 0.4141 - accuracy: 0.8270\n",
      "Epoch 68/150\n",
      "72/72 [==============================] - 0s 1ms/step - loss: 0.4148 - accuracy: 0.8270\n",
      "Epoch 69/150\n",
      "72/72 [==============================] - 0s 1ms/step - loss: 0.4132 - accuracy: 0.8186\n",
      "Epoch 70/150\n",
      "72/72 [==============================] - 0s 1ms/step - loss: 0.4120 - accuracy: 0.8270\n",
      "Epoch 71/150\n",
      "72/72 [==============================] - 0s 1ms/step - loss: 0.4117 - accuracy: 0.8326\n",
      "Epoch 72/150\n",
      "72/72 [==============================] - 0s 1ms/step - loss: 0.4118 - accuracy: 0.8326\n",
      "Epoch 73/150\n",
      "72/72 [==============================] - 0s 1ms/step - loss: 0.4121 - accuracy: 0.8200\n",
      "Epoch 74/150\n",
      "72/72 [==============================] - 0s 1ms/step - loss: 0.4111 - accuracy: 0.8284\n",
      "Epoch 75/150\n",
      "72/72 [==============================] - 0s 1ms/step - loss: 0.4116 - accuracy: 0.8214\n",
      "Epoch 76/150\n",
      "72/72 [==============================] - 0s 1ms/step - loss: 0.4099 - accuracy: 0.8242\n",
      "Epoch 77/150\n",
      "72/72 [==============================] - 0s 1ms/step - loss: 0.4123 - accuracy: 0.8326\n",
      "Epoch 78/150\n",
      "72/72 [==============================] - 0s 1ms/step - loss: 0.4106 - accuracy: 0.8270\n",
      "Epoch 79/150\n",
      "72/72 [==============================] - 0s 1ms/step - loss: 0.4111 - accuracy: 0.8228\n",
      "Epoch 80/150\n",
      "72/72 [==============================] - 0s 1ms/step - loss: 0.4112 - accuracy: 0.8186\n",
      "Epoch 81/150\n",
      "72/72 [==============================] - 0s 1ms/step - loss: 0.4119 - accuracy: 0.8298\n",
      "Epoch 82/150\n",
      "72/72 [==============================] - 0s 1ms/step - loss: 0.4092 - accuracy: 0.8214\n",
      "Epoch 83/150\n"
     ]
    },
    {
     "name": "stdout",
     "output_type": "stream",
     "text": [
      "72/72 [==============================] - 0s 1ms/step - loss: 0.4084 - accuracy: 0.8242\n",
      "Epoch 84/150\n",
      "72/72 [==============================] - 0s 1ms/step - loss: 0.4094 - accuracy: 0.8200\n",
      "Epoch 85/150\n",
      "72/72 [==============================] - 0s 1ms/step - loss: 0.4091 - accuracy: 0.8284\n",
      "Epoch 86/150\n",
      "72/72 [==============================] - 0s 1ms/step - loss: 0.4081 - accuracy: 0.8270\n",
      "Epoch 87/150\n",
      "72/72 [==============================] - 0s 1ms/step - loss: 0.4071 - accuracy: 0.8298\n",
      "Epoch 88/150\n",
      "72/72 [==============================] - 0s 1ms/step - loss: 0.4075 - accuracy: 0.8284\n",
      "Epoch 89/150\n",
      "72/72 [==============================] - 0s 1ms/step - loss: 0.4075 - accuracy: 0.8270\n",
      "Epoch 90/150\n",
      "72/72 [==============================] - 0s 1ms/step - loss: 0.4062 - accuracy: 0.8270\n",
      "Epoch 91/150\n",
      "72/72 [==============================] - 0s 1ms/step - loss: 0.4060 - accuracy: 0.8284\n",
      "Epoch 92/150\n",
      "72/72 [==============================] - 0s 1ms/step - loss: 0.4075 - accuracy: 0.8228\n",
      "Epoch 93/150\n",
      "72/72 [==============================] - 0s 1ms/step - loss: 0.4059 - accuracy: 0.8270\n",
      "Epoch 94/150\n",
      "72/72 [==============================] - 0s 1ms/step - loss: 0.4057 - accuracy: 0.8298\n",
      "Epoch 95/150\n",
      "72/72 [==============================] - 0s 1ms/step - loss: 0.4057 - accuracy: 0.8284\n",
      "Epoch 96/150\n",
      "72/72 [==============================] - 0s 1ms/step - loss: 0.4058 - accuracy: 0.8284\n",
      "Epoch 97/150\n",
      "72/72 [==============================] - 0s 1ms/step - loss: 0.4047 - accuracy: 0.8312\n",
      "Epoch 98/150\n",
      "72/72 [==============================] - 0s 1ms/step - loss: 0.4044 - accuracy: 0.8340\n",
      "Epoch 99/150\n",
      "72/72 [==============================] - 0s 1ms/step - loss: 0.4047 - accuracy: 0.8256\n",
      "Epoch 100/150\n",
      "72/72 [==============================] - 0s 1ms/step - loss: 0.4031 - accuracy: 0.8326\n",
      "Epoch 101/150\n",
      "72/72 [==============================] - 0s 1ms/step - loss: 0.4043 - accuracy: 0.8284\n",
      "Epoch 102/150\n",
      "72/72 [==============================] - 0s 1ms/step - loss: 0.4037 - accuracy: 0.8256\n",
      "Epoch 103/150\n",
      "72/72 [==============================] - 0s 1ms/step - loss: 0.4026 - accuracy: 0.8256\n",
      "Epoch 104/150\n",
      "72/72 [==============================] - 0s 1ms/step - loss: 0.4021 - accuracy: 0.8312\n",
      "Epoch 105/150\n",
      "72/72 [==============================] - 0s 1ms/step - loss: 0.4020 - accuracy: 0.8312\n",
      "Epoch 106/150\n",
      "72/72 [==============================] - 0s 1ms/step - loss: 0.4020 - accuracy: 0.8298\n",
      "Epoch 107/150\n",
      "72/72 [==============================] - 0s 1ms/step - loss: 0.4018 - accuracy: 0.8298\n",
      "Epoch 108/150\n",
      "72/72 [==============================] - 0s 1ms/step - loss: 0.4044 - accuracy: 0.8214\n",
      "Epoch 109/150\n",
      "72/72 [==============================] - 0s 1ms/step - loss: 0.4013 - accuracy: 0.8284\n",
      "Epoch 110/150\n",
      "72/72 [==============================] - 0s 1ms/step - loss: 0.4008 - accuracy: 0.8326\n",
      "Epoch 111/150\n",
      "72/72 [==============================] - 0s 1ms/step - loss: 0.4002 - accuracy: 0.8298\n",
      "Epoch 112/150\n",
      "72/72 [==============================] - 0s 1ms/step - loss: 0.4001 - accuracy: 0.8312\n",
      "Epoch 113/150\n",
      "72/72 [==============================] - 0s 1ms/step - loss: 0.4009 - accuracy: 0.8368\n",
      "Epoch 114/150\n",
      "72/72 [==============================] - 0s 1ms/step - loss: 0.4021 - accuracy: 0.8284\n",
      "Epoch 115/150\n",
      "72/72 [==============================] - 0s 1ms/step - loss: 0.3997 - accuracy: 0.8242\n",
      "Epoch 116/150\n",
      "72/72 [==============================] - 0s 1ms/step - loss: 0.4005 - accuracy: 0.8312\n",
      "Epoch 117/150\n",
      "72/72 [==============================] - 0s 1ms/step - loss: 0.4003 - accuracy: 0.8326\n",
      "Epoch 118/150\n",
      "72/72 [==============================] - 0s 1ms/step - loss: 0.3995 - accuracy: 0.8312\n",
      "Epoch 119/150\n",
      "72/72 [==============================] - 0s 1ms/step - loss: 0.3999 - accuracy: 0.8340\n",
      "Epoch 120/150\n",
      "72/72 [==============================] - 0s 1ms/step - loss: 0.3992 - accuracy: 0.8298\n",
      "Epoch 121/150\n",
      "72/72 [==============================] - 0s 1ms/step - loss: 0.3984 - accuracy: 0.8312\n",
      "Epoch 122/150\n",
      "72/72 [==============================] - 0s 1ms/step - loss: 0.3984 - accuracy: 0.8326\n",
      "Epoch 123/150\n",
      "72/72 [==============================] - 0s 1ms/step - loss: 0.3980 - accuracy: 0.8312\n",
      "Epoch 124/150\n",
      "72/72 [==============================] - 0s 1ms/step - loss: 0.3992 - accuracy: 0.8298\n",
      "Epoch 125/150\n",
      "72/72 [==============================] - 0s 1ms/step - loss: 0.3978 - accuracy: 0.8326\n",
      "Epoch 126/150\n",
      "72/72 [==============================] - 0s 1ms/step - loss: 0.3971 - accuracy: 0.8354\n",
      "Epoch 127/150\n",
      "72/72 [==============================] - 0s 1ms/step - loss: 0.3967 - accuracy: 0.8326\n",
      "Epoch 128/150\n",
      "72/72 [==============================] - 0s 1ms/step - loss: 0.3968 - accuracy: 0.8354\n",
      "Epoch 129/150\n",
      "72/72 [==============================] - 0s 1ms/step - loss: 0.3954 - accuracy: 0.8340\n",
      "Epoch 130/150\n",
      "72/72 [==============================] - 0s 1ms/step - loss: 0.3960 - accuracy: 0.8383\n",
      "Epoch 131/150\n",
      "72/72 [==============================] - 0s 1ms/step - loss: 0.3993 - accuracy: 0.8312\n",
      "Epoch 132/150\n",
      "72/72 [==============================] - 0s 1ms/step - loss: 0.3951 - accuracy: 0.8383\n",
      "Epoch 133/150\n",
      "72/72 [==============================] - 0s 1ms/step - loss: 0.3965 - accuracy: 0.8298\n",
      "Epoch 134/150\n",
      "72/72 [==============================] - 0s 1ms/step - loss: 0.3965 - accuracy: 0.8312\n",
      "Epoch 135/150\n",
      "72/72 [==============================] - 0s 1ms/step - loss: 0.3992 - accuracy: 0.8284\n",
      "Epoch 136/150\n",
      "72/72 [==============================] - 0s 1ms/step - loss: 0.3955 - accuracy: 0.8354\n",
      "Epoch 137/150\n",
      "72/72 [==============================] - 0s 1ms/step - loss: 0.3953 - accuracy: 0.8326\n",
      "Epoch 138/150\n",
      "72/72 [==============================] - 0s 1ms/step - loss: 0.3953 - accuracy: 0.8340\n",
      "Epoch 139/150\n",
      "72/72 [==============================] - 0s 1ms/step - loss: 0.3954 - accuracy: 0.8312\n",
      "Epoch 140/150\n",
      "72/72 [==============================] - 0s 1ms/step - loss: 0.3952 - accuracy: 0.8354\n",
      "Epoch 141/150\n",
      "72/72 [==============================] - 0s 1ms/step - loss: 0.3961 - accuracy: 0.8326\n",
      "Epoch 142/150\n",
      "72/72 [==============================] - 0s 1ms/step - loss: 0.3938 - accuracy: 0.8298\n",
      "Epoch 143/150\n",
      "72/72 [==============================] - 0s 1ms/step - loss: 0.3932 - accuracy: 0.8326\n",
      "Epoch 144/150\n",
      "72/72 [==============================] - 0s 1ms/step - loss: 0.3941 - accuracy: 0.8354\n",
      "Epoch 145/150\n",
      "72/72 [==============================] - 0s 1ms/step - loss: 0.3937 - accuracy: 0.8326\n",
      "Epoch 146/150\n",
      "72/72 [==============================] - 0s 1ms/step - loss: 0.3922 - accuracy: 0.8326\n",
      "Epoch 147/150\n",
      "72/72 [==============================] - 0s 1ms/step - loss: 0.3929 - accuracy: 0.8340\n",
      "Epoch 148/150\n",
      "72/72 [==============================] - 0s 1ms/step - loss: 0.3920 - accuracy: 0.8354\n",
      "Epoch 149/150\n",
      "72/72 [==============================] - 0s 1ms/step - loss: 0.3924 - accuracy: 0.8354\n",
      "Epoch 150/150\n",
      "72/72 [==============================] - 0s 1ms/step - loss: 0.3914 - accuracy: 0.8298\n"
     ]
    },
    {
     "data": {
      "text/plain": [
       "<keras.callbacks.History at 0x288862868e0>"
      ]
     },
     "execution_count": 52,
     "metadata": {},
     "output_type": "execute_result"
    }
   ],
   "source": [
    "#fit the keras model on the dataset\n",
    "model.fit(X_train2, y_train2, epochs=150, batch_size=10)"
   ]
  },
  {
   "cell_type": "code",
   "execution_count": 53,
   "id": "c48a8ef2",
   "metadata": {},
   "outputs": [
    {
     "name": "stdout",
     "output_type": "stream",
     "text": [
      "6/6 [==============================] - 0s 1ms/step\n"
     ]
    }
   ],
   "source": [
    "Y_pred3 = model.predict(X_test2)"
   ]
  },
  {
   "cell_type": "markdown",
   "id": "30821d2b",
   "metadata": {},
   "source": [
    "# EVALUATING THE MODELS"
   ]
  },
  {
   "cell_type": "code",
   "execution_count": 54,
   "id": "47d27f6c",
   "metadata": {},
   "outputs": [
    {
     "data": {
      "text/plain": [
       "0.8426966292134831"
      ]
     },
     "execution_count": 54,
     "metadata": {},
     "output_type": "execute_result"
    }
   ],
   "source": [
    "#Accuracy score for Logistic Regression\n",
    "accuracy_score(y_test, Y_pred)"
   ]
  },
  {
   "cell_type": "code",
   "execution_count": 55,
   "id": "72969151",
   "metadata": {},
   "outputs": [
    {
     "data": {
      "text/plain": [
       "0.8651685393258427"
      ]
     },
     "execution_count": 55,
     "metadata": {},
     "output_type": "execute_result"
    }
   ],
   "source": [
    "#Accuracy score for KNN\n",
    "accuracy_score(y_test, Y_pred2)"
   ]
  },
  {
   "cell_type": "code",
   "execution_count": 56,
   "id": "48cab055",
   "metadata": {},
   "outputs": [
    {
     "name": "stdout",
     "output_type": "stream",
     "text": [
      "23/23 [==============================] - 0s 1ms/step - loss: 0.3877 - accuracy: 0.8326\n",
      "Accuracy: 83.26\n"
     ]
    }
   ],
   "source": [
    "#Accuracy score for keras model\n",
    "_, accuracy = model.evaluate(X_train2, y_train2)\n",
    "print('Accuracy: %.2f' % (accuracy*100))"
   ]
  },
  {
   "cell_type": "code",
   "execution_count": 57,
   "id": "0b448722",
   "metadata": {},
   "outputs": [
    {
     "data": {
      "text/plain": [
       "array([[98, 12],\n",
       "       [16, 52]], dtype=int64)"
      ]
     },
     "execution_count": 57,
     "metadata": {},
     "output_type": "execute_result"
    }
   ],
   "source": [
    "cm=confusion_matrix(y_test, Y_pred)\n",
    "cm\n",
    "#We got 98 true positives and 52 true negatives"
   ]
  },
  {
   "cell_type": "code",
   "execution_count": 58,
   "id": "6fee47cc",
   "metadata": {},
   "outputs": [
    {
     "data": {
      "text/plain": [
       "<AxesSubplot:>"
      ]
     },
     "execution_count": 58,
     "metadata": {},
     "output_type": "execute_result"
    },
    {
     "data": {
      "image/png": "[encoded data removed]",
      "text/plain": [
       "<Figure size 432x288 with 2 Axes>"
      ]
     },
     "metadata": {
      "needs_background": "light"
     },
     "output_type": "display_data"
    }
   ],
   "source": [
    "#visualization of confusion matrix for LogisticRegression\n",
    "sns.heatmap(cm,annot=True, cmap = 'Blues')"
   ]
  },
  {
   "cell_type": "code",
   "execution_count": 59,
   "id": "8cf57026",
   "metadata": {},
   "outputs": [
    {
     "data": {
      "text/plain": [
       "array([[99, 11],\n",
       "       [13, 55]], dtype=int64)"
      ]
     },
     "execution_count": 59,
     "metadata": {},
     "output_type": "execute_result"
    }
   ],
   "source": [
    "cm2=confusion_matrix(y_test, Y_pred2)\n",
    "cm2\n",
    "#We got 99 true positives and 55 true negatives"
   ]
  },
  {
   "cell_type": "code",
   "execution_count": 60,
   "id": "d783ab45",
   "metadata": {},
   "outputs": [
    {
     "data": {
      "text/plain": [
       "<AxesSubplot:>"
      ]
     },
     "execution_count": 60,
     "metadata": {},
     "output_type": "execute_result"
    },
    {
     "data": {
      "image/png": "[encoded data removed]",
      "text/plain": [
       "<Figure size 432x288 with 2 Axes>"
      ]
     },
     "metadata": {
      "needs_background": "light"
     },
     "output_type": "display_data"
    }
   ],
   "source": [
    "#visualization of confusion matrix for KNN\n",
    "sns.heatmap(cm2,annot=True, cmap = 'Blues')"
   ]
  },
  {
   "cell_type": "markdown",
   "id": "7a3afc24",
   "metadata": {},
   "source": [
    "# PREDICTION"
   ]
  },
  {
   "cell_type": "code",
   "execution_count": 61,
   "id": "4eb2ff7e",
   "metadata": {},
   "outputs": [],
   "source": [
    "#Prediction using LogisticRegression Model\n",
    "pred = clf.predict(df2)"
   ]
  },
  {
   "cell_type": "code",
   "execution_count": 62,
   "id": "e82a4179",
   "metadata": {},
   "outputs": [
    {
     "data": {
      "text/plain": [
       "array([0, 0, 0, 0, 1, 0, 1, 0, 1, 0, 0, 0, 1, 0, 1, 1, 0, 0, 0, 1, 0, 0,\n",
       "       1, 1, 1, 0, 1, 0, 0, 0, 0, 0, 1, 1, 0, 0, 1, 1, 0, 0, 0, 0, 0, 1,\n",
       "       1, 0, 0, 0, 1, 1, 0, 0, 1, 1, 0, 0, 0, 0, 0, 1, 0, 0, 0, 1, 1, 1,\n",
       "       1, 0, 0, 1, 1, 0, 1, 0, 1, 0, 0, 1, 0, 1, 0, 0, 0, 0, 0, 0, 1, 1,\n",
       "       1, 1, 1, 0, 1, 0, 0, 0, 1, 0, 1, 0, 1, 0, 0, 0, 1, 0, 0, 0, 0, 0,\n",
       "       0, 1, 1, 1, 1, 0, 0, 1, 0, 1, 1, 0, 1, 0, 0, 1, 0, 1, 0, 0, 0, 1,\n",
       "       1, 0, 0, 0, 0, 0, 1, 0, 0, 1, 0, 0, 0, 0, 0, 0, 0, 0, 1, 0, 0, 1,\n",
       "       0, 0, 1, 1, 0, 1, 1, 0, 1, 0, 1, 1, 0, 0, 1, 1, 0, 0, 0, 0, 0, 1,\n",
       "       1, 0, 1, 1, 0, 0, 1, 0, 1, 0, 1, 0, 0, 0, 0, 0, 0, 0, 1, 0, 1, 1,\n",
       "       0, 1, 1, 0, 1, 1, 0, 0, 1, 0, 1, 0, 0, 0, 0, 1, 0, 0, 1, 0, 1, 0,\n",
       "       1, 0, 1, 0, 1, 1, 0, 1, 0, 0, 0, 1, 0, 0, 0, 0, 0, 0, 1, 1, 1, 1,\n",
       "       0, 0, 0, 0, 1, 0, 1, 1, 1, 0, 0, 0, 0, 0, 0, 0, 1, 0, 0, 0, 1, 1,\n",
       "       0, 0, 0, 0, 1, 0, 0, 0, 1, 1, 0, 1, 0, 0, 0, 0, 1, 0, 1, 1, 1, 0,\n",
       "       0, 0, 0, 0, 0, 1, 0, 1, 0, 0, 1, 0, 0, 0, 0, 0, 0, 0, 1, 1, 0, 0,\n",
       "       0, 0, 0, 0, 0, 1, 1, 1, 0, 0, 0, 0, 0, 0, 0, 0, 1, 0, 1, 0, 0, 0,\n",
       "       1, 0, 0, 1, 0, 0, 0, 0, 0, 0, 0, 0, 0, 1, 0, 1, 0, 1, 0, 1, 1, 0,\n",
       "       0, 0, 1, 0, 1, 0, 0, 1, 0, 1, 1, 0, 1, 0, 0, 1, 1, 0, 0, 1, 0, 0,\n",
       "       1, 1, 0, 0, 0, 0, 0, 0, 1, 1, 0, 1, 0, 0, 0, 0, 0, 1, 0, 0, 0, 1,\n",
       "       0, 1, 0, 0, 1, 0, 1, 0, 0, 0, 0, 0, 1, 1, 1, 1, 1, 0, 1, 0, 0, 0],\n",
       "      dtype=int64)"
      ]
     },
     "execution_count": 62,
     "metadata": {},
     "output_type": "execute_result"
    }
   ],
   "source": [
    "pred"
   ]
  },
  {
   "cell_type": "code",
   "execution_count": 63,
   "id": "9b1c013c",
   "metadata": {},
   "outputs": [],
   "source": [
    "#Prediction using KNN Model\n",
    "pred2 = clf2.predict(df2)"
   ]
  },
  {
   "cell_type": "code",
   "execution_count": 64,
   "id": "756a3745",
   "metadata": {},
   "outputs": [
    {
     "data": {
      "text/plain": [
       "array([0, 1, 0, 0, 0, 0, 1, 0, 1, 0, 0, 0, 1, 0, 1, 1, 0, 0, 0, 1, 0, 1,\n",
       "       1, 0, 1, 0, 1, 1, 0, 0, 0, 0, 0, 0, 0, 0, 0, 1, 0, 1, 0, 0, 0, 1,\n",
       "       1, 0, 0, 0, 1, 1, 0, 0, 1, 1, 0, 0, 0, 0, 0, 1, 0, 0, 0, 1, 1, 1,\n",
       "       1, 0, 0, 1, 1, 0, 0, 1, 1, 0, 0, 1, 0, 1, 1, 0, 0, 0, 0, 0, 1, 1,\n",
       "       1, 1, 1, 0, 1, 0, 1, 0, 1, 0, 1, 0, 1, 0, 0, 0, 0, 0, 0, 0, 0, 0,\n",
       "       0, 1, 1, 1, 1, 1, 0, 1, 1, 1, 1, 0, 1, 0, 0, 1, 0, 1, 0, 0, 0, 1,\n",
       "       0, 0, 0, 0, 0, 0, 1, 0, 0, 1, 0, 0, 0, 0, 0, 0, 0, 1, 1, 0, 0, 1,\n",
       "       0, 0, 1, 1, 0, 1, 1, 1, 1, 0, 0, 0, 0, 0, 1, 1, 0, 0, 0, 0, 0, 1,\n",
       "       1, 0, 1, 1, 0, 1, 1, 0, 1, 0, 1, 0, 0, 0, 0, 0, 1, 0, 1, 0, 1, 1,\n",
       "       0, 0, 1, 1, 1, 1, 0, 1, 1, 0, 1, 0, 0, 0, 0, 1, 0, 0, 1, 0, 1, 0,\n",
       "       1, 0, 1, 0, 1, 1, 0, 1, 0, 0, 0, 1, 0, 0, 0, 0, 0, 0, 1, 1, 1, 1,\n",
       "       0, 0, 1, 0, 1, 0, 1, 1, 1, 0, 0, 0, 0, 0, 0, 0, 1, 0, 0, 0, 1, 1,\n",
       "       0, 0, 0, 0, 0, 0, 0, 0, 1, 1, 0, 1, 0, 0, 0, 0, 1, 1, 1, 1, 1, 0,\n",
       "       0, 0, 0, 0, 0, 1, 0, 0, 0, 0, 1, 0, 0, 0, 0, 0, 0, 0, 1, 1, 0, 1,\n",
       "       0, 1, 0, 1, 0, 1, 1, 1, 0, 0, 0, 0, 0, 0, 0, 1, 1, 0, 1, 0, 0, 0,\n",
       "       1, 1, 0, 0, 0, 0, 0, 0, 0, 1, 0, 0, 0, 1, 1, 0, 0, 1, 0, 1, 1, 0,\n",
       "       0, 0, 1, 0, 1, 0, 0, 1, 0, 1, 1, 0, 1, 0, 0, 1, 1, 0, 0, 1, 0, 0,\n",
       "       1, 1, 0, 0, 0, 0, 0, 0, 1, 1, 0, 1, 0, 0, 0, 0, 0, 1, 1, 0, 0, 1,\n",
       "       0, 1, 0, 0, 1, 0, 1, 0, 0, 0, 0, 0, 1, 1, 1, 1, 0, 0, 1, 0, 0, 1],\n",
       "      dtype=int64)"
      ]
     },
     "execution_count": 64,
     "metadata": {},
     "output_type": "execute_result"
    }
   ],
   "source": [
    "pred2"
   ]
  },
  {
   "cell_type": "code",
   "execution_count": 65,
   "id": "3061b6ea",
   "metadata": {},
   "outputs": [
    {
     "name": "stdout",
     "output_type": "stream",
     "text": [
      "14/14 [==============================] - 0s 769us/step\n"
     ]
    }
   ],
   "source": [
    "#Prediction using Keras Model\n",
    "pred3 = (model.predict(df2) > 0.5).astype(int).flatten()#We use flatten to convert the prediction values into a 1D array."
   ]
  },
  {
   "cell_type": "code",
   "execution_count": 66,
   "id": "b4c78ae5",
   "metadata": {},
   "outputs": [
    {
     "data": {
      "text/plain": [
       "array([0, 0, 0, 0, 1, 0, 1, 0, 1, 0, 0, 0, 1, 0, 1, 1, 0, 0, 0, 1, 0, 1,\n",
       "       1, 0, 1, 0, 1, 0, 0, 0, 0, 0, 0, 0, 1, 0, 0, 0, 0, 0, 0, 0, 0, 1,\n",
       "       1, 0, 0, 0, 1, 1, 0, 0, 1, 1, 0, 0, 0, 0, 0, 1, 0, 0, 0, 1, 1, 1,\n",
       "       1, 0, 0, 1, 1, 0, 0, 0, 1, 0, 0, 1, 0, 1, 1, 0, 0, 0, 0, 0, 1, 1,\n",
       "       1, 1, 1, 0, 1, 0, 0, 0, 1, 0, 0, 0, 1, 0, 0, 0, 1, 0, 0, 0, 0, 0,\n",
       "       0, 1, 1, 1, 1, 0, 0, 1, 0, 1, 1, 0, 1, 0, 0, 1, 0, 1, 0, 0, 0, 0,\n",
       "       0, 0, 0, 0, 0, 0, 0, 0, 0, 1, 0, 0, 0, 0, 0, 0, 0, 1, 1, 0, 0, 1,\n",
       "       0, 0, 1, 0, 0, 1, 1, 1, 1, 0, 0, 1, 0, 0, 1, 0, 0, 0, 0, 0, 0, 1,\n",
       "       1, 0, 1, 1, 0, 0, 1, 0, 1, 0, 1, 0, 0, 0, 0, 0, 1, 0, 1, 0, 1, 0,\n",
       "       0, 1, 1, 1, 1, 1, 0, 0, 1, 0, 1, 0, 0, 0, 0, 1, 0, 0, 1, 0, 1, 0,\n",
       "       1, 0, 1, 0, 1, 1, 0, 1, 0, 0, 0, 1, 0, 0, 1, 0, 0, 0, 1, 1, 1, 1,\n",
       "       0, 0, 1, 0, 1, 0, 1, 1, 1, 0, 1, 0, 0, 0, 0, 0, 1, 0, 0, 0, 1, 1,\n",
       "       0, 0, 0, 0, 0, 0, 0, 0, 1, 1, 0, 1, 0, 0, 0, 0, 0, 1, 1, 1, 1, 0,\n",
       "       0, 0, 0, 0, 0, 1, 0, 1, 0, 0, 1, 0, 0, 0, 0, 0, 0, 0, 1, 1, 0, 1,\n",
       "       0, 0, 0, 0, 0, 1, 1, 1, 0, 0, 0, 0, 0, 0, 0, 0, 1, 0, 1, 0, 0, 0,\n",
       "       1, 0, 0, 1, 0, 0, 0, 0, 0, 0, 0, 0, 0, 1, 1, 1, 0, 1, 0, 1, 1, 0,\n",
       "       0, 0, 1, 0, 1, 0, 0, 1, 0, 1, 1, 0, 1, 0, 0, 1, 1, 0, 0, 1, 0, 0,\n",
       "       1, 1, 0, 0, 0, 0, 0, 0, 1, 1, 0, 1, 0, 0, 0, 0, 0, 1, 1, 0, 0, 1,\n",
       "       0, 1, 0, 0, 1, 0, 1, 0, 0, 0, 0, 0, 1, 0, 1, 1, 0, 0, 1, 0, 0, 1])"
      ]
     },
     "execution_count": 66,
     "metadata": {},
     "output_type": "execute_result"
    }
   ],
   "source": [
    "pred3"
   ]
  },
  {
   "cell_type": "code",
   "execution_count": 67,
   "id": "38db90ef",
   "metadata": {},
   "outputs": [],
   "source": [
    "#saves the prediction in an output.csv as the answer for the test.csv\n",
    "submission = pd.DataFrame({\"PassengerId\": test[\"PassengerId\"],\"Survived\": pred})\n",
    "submission.to_csv('LogisticRegression.csv', index=False)"
   ]
  },
  {
   "cell_type": "code",
   "execution_count": 68,
   "id": "2c27923a",
   "metadata": {},
   "outputs": [],
   "source": [
    "#saves the prediction in an output.csv as the answer for the test.csv\n",
    "submission2 = pd.DataFrame({\"PassengerId\": test[\"PassengerId\"],\"Survived\": pred2})\n",
    "submission2.to_csv('KNN.csv', index=False)"
   ]
  },
  {
   "cell_type": "code",
   "execution_count": 69,
   "id": "9d90c5d2",
   "metadata": {},
   "outputs": [],
   "source": [
    "#saves the prediction in an output.csv as the answer for the test.csv\n",
    "submission3 = pd.DataFrame({\"PassengerId\": test[\"PassengerId\"],\"Survived\": pred3})\n",
    "submission3.to_csv('Keras.csv', index=False)"
   ]
  },
  {
   "cell_type": "code",
   "execution_count": 70,
   "id": "dddbd50b",
   "metadata": {},
   "outputs": [],
   "source": [
    "pred_df = pd.read_csv('LogisticRegression.csv')"
   ]
  },
  {
   "cell_type": "code",
   "execution_count": 71,
   "id": "9c6357ea",
   "metadata": {},
   "outputs": [],
   "source": [
    "pred_df2 = pd.read_csv('KNN.csv')"
   ]
  },
  {
   "cell_type": "code",
   "execution_count": 72,
   "id": "d8c8c4f2",
   "metadata": {},
   "outputs": [],
   "source": [
    "pred_df3 = pd.read_csv('Keras.csv')"
   ]
  },
  {
   "cell_type": "code",
   "execution_count": 73,
   "id": "a858ab63",
   "metadata": {},
   "outputs": [
    {
     "data": {
      "text/plain": [
       "<AxesSubplot:xlabel='Survived', ylabel='count'>"
      ]
     },
     "execution_count": 73,
     "metadata": {},
     "output_type": "execute_result"
    },
    {
     "data": {
      "image/png": "[encoded data removed]",
      "text/plain": [
       "<Figure size 432x288 with 1 Axes>"
      ]
     },
     "metadata": {
      "needs_background": "light"
     },
     "output_type": "display_data"
    }
   ],
   "source": [
    "#visualizing predicted values for Logistic Regression\n",
    "sns.countplot(x='Survived', data=pred_df, palette=['#432371',\"#FAAE7B\"])"
   ]
  },
  {
   "cell_type": "code",
   "execution_count": 74,
   "id": "7b99ca9f",
   "metadata": {},
   "outputs": [
    {
     "data": {
      "text/plain": [
       "<AxesSubplot:xlabel='Survived', ylabel='count'>"
      ]
     },
     "execution_count": 74,
     "metadata": {},
     "output_type": "execute_result"
    },
    {
     "data": {
      "image/png": "[encoded data removed]",
      "text/plain": [
       "<Figure size 432x288 with 1 Axes>"
      ]
     },
     "metadata": {
      "needs_background": "light"
     },
     "output_type": "display_data"
    }
   ],
   "source": [
    "#visualizing predicted values for the KNN model\n",
    "sns.countplot(x='Survived', data=pred_df2, palette=['#432371',\"#FAAE7B\"])"
   ]
  },
  {
   "cell_type": "code",
   "execution_count": 75,
   "id": "4965ebe5",
   "metadata": {},
   "outputs": [
    {
     "data": {
      "text/plain": [
       "<AxesSubplot:xlabel='Survived', ylabel='count'>"
      ]
     },
     "execution_count": 75,
     "metadata": {},
     "output_type": "execute_result"
    },
    {
     "data": {
      "image/png": "[encoded data removed]",
      "text/plain": [
       "<Figure size 432x288 with 1 Axes>"
      ]
     },
     "metadata": {
      "needs_background": "light"
     },
     "output_type": "display_data"
    }
   ],
   "source": [
    "#visualizing predicted values for the Keras model\n",
    "sns.countplot(x='Survived', data=pred_df3, palette=['#432371',\"#FAAE7B\"])"
   ]
  },
  {
   "cell_type": "markdown",
   "id": "88d1382f",
   "metadata": {},
   "source": [
    "# COMPARISON, ANALYSIS AND CONCLUSION"
   ]
  },
  {
   "cell_type": "code",
   "execution_count": 76,
   "id": "2eab0614",
   "metadata": {},
   "outputs": [],
   "source": [
    "#After cleaning the datasets by dropping the outliers, the two machine learning algorithms that are used are Logistic Regression\n",
    "#and KNN under supervised machine learning. The Neural Network model used is the Keras sequential model.\n",
    "#The 2 machine learning algorithms are quite close in terms of their accuracy. Between the two machine learning models \n",
    "#Logistic Regression and the KNN model, the Logistic Regression model got around 84.27% after training with the dataset and KNN got\n",
    "#86.52%. Meanwhile the Keras model got around 83.97% with 150 epochs set."
   ]
  },
  {
   "cell_type": "code",
   "execution_count": null,
   "id": "c33bba5f",
   "metadata": {},
   "outputs": [],
   "source": []
  }
 ],
 "metadata": {
  "kernelspec": {
   "display_name": "Python 3 (ipykernel)",
   "language": "python",
   "name": "python3"
  },
  "language_info": {
   "codemirror_mode": {
    "name": "ipython",
    "version": 3
   },
   "file_extension": ".py",
   "mimetype": "text/x-python",
   "name": "python",
   "nbconvert_exporter": "python",
   "pygments_lexer": "ipython3",
   "version": "3.9.12"
  }
 },
 "nbformat": 4,
 "nbformat_minor": 5
}
